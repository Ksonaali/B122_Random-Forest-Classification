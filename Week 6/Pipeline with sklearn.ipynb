{
  "nbformat": 4,
  "nbformat_minor": 0,
  "metadata": {
    "colab": {
      "provenance": []
    },
    "kernelspec": {
      "name": "python3",
      "display_name": "Python 3"
    },
    "language_info": {
      "name": "python"
    }
  },
  "cells": [
    {
      "cell_type": "code",
      "execution_count": 8,
      "metadata": {
        "colab": {
          "base_uri": "https://localhost:8080/"
        },
        "id": "kQMdOBiHOWhz",
        "outputId": "a9ebcb85-5edc-4a61-e262-b08dfb3b942f"
      },
      "outputs": [
        {
          "output_type": "stream",
          "name": "stdout",
          "text": [
            "{'rf__max_depth': None, 'rf__min_samples_leaf': 1, 'rf__min_samples_split': 2, 'rf__n_estimators': 50}\n",
            "Test set accuracy: 0.925\n"
          ]
        }
      ],
      "source": [
        "import pandas as pd\n",
        "import numpy as np\n",
        "from sklearn.datasets import load_breast_cancer\n",
        "from sklearn.model_selection import train_test_split\n",
        "from sklearn.ensemble import RandomForestClassifier\n",
        "from sklearn.pipeline import Pipeline\n",
        "from sklearn.preprocessing import StandardScaler\n",
        "from sklearn.decomposition import PCA\n",
        "from sklearn.model_selection import GridSearchCV\n",
        "\n",
        "# load the dataset\n",
        "data = pd.read_csv('data02.csv')\n",
        "X = pd.DataFrame(data.data, columns=data.feature_names).head(200)\n",
        "y = pd.Series(data.target).head(200)\n",
        "\n",
        "# outlier treatment\n",
        "X = X.apply(lambda x: np.log1p(x))\n",
        "\n",
        "# pipeline with hyperparameter tuning using GridSearchCV\n",
        "pipeline = Pipeline([\n",
        "    ('scaler', StandardScaler()),\n",
        "    \n",
        "    ('rf', RandomForestClassifier())\n",
        "])\n",
        "\n",
        "params = {\n",
        "    'rf__n_estimators': [50, 100, 200, 200],\n",
        "    'rf__max_depth': [3, 5, 10, None],\n",
        "    'rf__min_samples_split': [2, 5, 10],\n",
        "    'rf__min_samples_leaf': [1, 2, 4]\n",
        "}\n",
        "\n",
        "grid_search = GridSearchCV(pipeline, params, cv=5)\n",
        "X_train, X_test, y_train, y_test = train_test_split(X, y, test_size=0.2, random_state=42)\n",
        "grid_search.fit(X_train, y_train)\n",
        "\n",
        "# print the best hyperparameters\n",
        "print(grid_search.best_params_)\n",
        "\n",
        "# evaluate the model on the test set\n",
        "accuracy = grid_search.score(X_test, y_test)\n",
        "print(f\"Test set accuracy: {accuracy:.3f}\")\n"
      ]
    },
    {
      "cell_type": "code",
      "source": [],
      "metadata": {
        "id": "Y0UxnSxpOa3F"
      },
      "execution_count": null,
      "outputs": []
    }
  ]
}