{
  "cells": [
    {
      "cell_type": "markdown",
      "metadata": {
        "id": "YZCUXlcuMOCR"
      },
      "source": [
        "# **PROBLEM STATEMENT**"
      ]
    },
    {
      "cell_type": "markdown",
      "metadata": {
        "id": "o8MmcAvWLlq1"
      },
      "source": [
        "## **Will Customer Suscribe to Term Deposit?**"
      ]
    },
    {
      "cell_type": "markdown",
      "metadata": {
        "id": "k9RCo4a9Llj-"
      },
      "source": [
        "The information relates to telephone-based direct marketing activities of a Portuguese banking institution. The classification's objective is to foretell whether a client will sign up for a term deposit (variable y).\n",
        "\n",
        "The information relates to direct marketing activities run by a Portuguese bank. On phone conversations, the marketing campaigns were based. In order to determine if the product (bank term deposit) would be subscribed ('yes') or not ('no'), it was frequently necessary to make more than one contact with the same client. classification of the lient Deposit Data set"
      ]
    },
    {
      "cell_type": "code",
      "execution_count": null,
      "metadata": {
        "id": "nsuNhE1F_lRu"
      },
      "outputs": [],
      "source": [
        "import pandas as pd\n",
        "import numpy as np\n",
        "import matplotlib.pyplot as plt\n",
        "import seaborn as sns\n",
        "import random\n",
        "import warnings"
      ]
    },
    {
      "cell_type": "code",
      "execution_count": null,
      "metadata": {
        "id": "nm44mcI4BFlb"
      },
      "outputs": [],
      "source": [
        "df = pd.read_csv('/content/Bank Client Deposit Data set Classification.csv')"
      ]
    },
    {
      "cell_type": "code",
      "execution_count": null,
      "metadata": {
        "colab": {
          "base_uri": "https://localhost:8080/",
          "height": 206
        },
        "id": "iQMtcG9JKVvM",
        "outputId": "84abf28a-4cae-4c08-caab-ca8947f14c67"
      },
      "outputs": [
        {
          "output_type": "execute_result",
          "data": {
            "text/plain": [
              "   age           job  marital  education default  balance housing loan  \\\n",
              "0   58    management  married   tertiary      no     2143     yes   no   \n",
              "1   44    technician   single  secondary      no       29     yes   no   \n",
              "2   33  entrepreneur  married  secondary      no        2     yes  yes   \n",
              "3   47   blue-collar  married    unknown      no     1506     yes   no   \n",
              "4   33       unknown   single    unknown      no        1      no   no   \n",
              "\n",
              "   contact  day month  duration  campaign  pdays  previous poutcome   y  \n",
              "0  unknown    5   may     261.0       1.0   -1.0       0.0  unknown  no  \n",
              "1  unknown    5   may     151.0       1.0   -1.0       0.0  unknown  no  \n",
              "2  unknown    5   may      76.0       1.0   -1.0       0.0  unknown  no  \n",
              "3  unknown    5   may      92.0       1.0   -1.0       0.0  unknown  no  \n",
              "4  unknown    5   may     198.0       1.0   -1.0       0.0  unknown  no  "
            ],
            "text/html": [
              "\n",
              "  <div id=\"df-66b2a1b6-f9de-4afe-9a2d-6669edf7a440\">\n",
              "    <div class=\"colab-df-container\">\n",
              "      <div>\n",
              "<style scoped>\n",
              "    .dataframe tbody tr th:only-of-type {\n",
              "        vertical-align: middle;\n",
              "    }\n",
              "\n",
              "    .dataframe tbody tr th {\n",
              "        vertical-align: top;\n",
              "    }\n",
              "\n",
              "    .dataframe thead th {\n",
              "        text-align: right;\n",
              "    }\n",
              "</style>\n",
              "<table border=\"1\" class=\"dataframe\">\n",
              "  <thead>\n",
              "    <tr style=\"text-align: right;\">\n",
              "      <th></th>\n",
              "      <th>age</th>\n",
              "      <th>job</th>\n",
              "      <th>marital</th>\n",
              "      <th>education</th>\n",
              "      <th>default</th>\n",
              "      <th>balance</th>\n",
              "      <th>housing</th>\n",
              "      <th>loan</th>\n",
              "      <th>contact</th>\n",
              "      <th>day</th>\n",
              "      <th>month</th>\n",
              "      <th>duration</th>\n",
              "      <th>campaign</th>\n",
              "      <th>pdays</th>\n",
              "      <th>previous</th>\n",
              "      <th>poutcome</th>\n",
              "      <th>y</th>\n",
              "    </tr>\n",
              "  </thead>\n",
              "  <tbody>\n",
              "    <tr>\n",
              "      <th>0</th>\n",
              "      <td>58</td>\n",
              "      <td>management</td>\n",
              "      <td>married</td>\n",
              "      <td>tertiary</td>\n",
              "      <td>no</td>\n",
              "      <td>2143</td>\n",
              "      <td>yes</td>\n",
              "      <td>no</td>\n",
              "      <td>unknown</td>\n",
              "      <td>5</td>\n",
              "      <td>may</td>\n",
              "      <td>261.0</td>\n",
              "      <td>1.0</td>\n",
              "      <td>-1.0</td>\n",
              "      <td>0.0</td>\n",
              "      <td>unknown</td>\n",
              "      <td>no</td>\n",
              "    </tr>\n",
              "    <tr>\n",
              "      <th>1</th>\n",
              "      <td>44</td>\n",
              "      <td>technician</td>\n",
              "      <td>single</td>\n",
              "      <td>secondary</td>\n",
              "      <td>no</td>\n",
              "      <td>29</td>\n",
              "      <td>yes</td>\n",
              "      <td>no</td>\n",
              "      <td>unknown</td>\n",
              "      <td>5</td>\n",
              "      <td>may</td>\n",
              "      <td>151.0</td>\n",
              "      <td>1.0</td>\n",
              "      <td>-1.0</td>\n",
              "      <td>0.0</td>\n",
              "      <td>unknown</td>\n",
              "      <td>no</td>\n",
              "    </tr>\n",
              "    <tr>\n",
              "      <th>2</th>\n",
              "      <td>33</td>\n",
              "      <td>entrepreneur</td>\n",
              "      <td>married</td>\n",
              "      <td>secondary</td>\n",
              "      <td>no</td>\n",
              "      <td>2</td>\n",
              "      <td>yes</td>\n",
              "      <td>yes</td>\n",
              "      <td>unknown</td>\n",
              "      <td>5</td>\n",
              "      <td>may</td>\n",
              "      <td>76.0</td>\n",
              "      <td>1.0</td>\n",
              "      <td>-1.0</td>\n",
              "      <td>0.0</td>\n",
              "      <td>unknown</td>\n",
              "      <td>no</td>\n",
              "    </tr>\n",
              "    <tr>\n",
              "      <th>3</th>\n",
              "      <td>47</td>\n",
              "      <td>blue-collar</td>\n",
              "      <td>married</td>\n",
              "      <td>unknown</td>\n",
              "      <td>no</td>\n",
              "      <td>1506</td>\n",
              "      <td>yes</td>\n",
              "      <td>no</td>\n",
              "      <td>unknown</td>\n",
              "      <td>5</td>\n",
              "      <td>may</td>\n",
              "      <td>92.0</td>\n",
              "      <td>1.0</td>\n",
              "      <td>-1.0</td>\n",
              "      <td>0.0</td>\n",
              "      <td>unknown</td>\n",
              "      <td>no</td>\n",
              "    </tr>\n",
              "    <tr>\n",
              "      <th>4</th>\n",
              "      <td>33</td>\n",
              "      <td>unknown</td>\n",
              "      <td>single</td>\n",
              "      <td>unknown</td>\n",
              "      <td>no</td>\n",
              "      <td>1</td>\n",
              "      <td>no</td>\n",
              "      <td>no</td>\n",
              "      <td>unknown</td>\n",
              "      <td>5</td>\n",
              "      <td>may</td>\n",
              "      <td>198.0</td>\n",
              "      <td>1.0</td>\n",
              "      <td>-1.0</td>\n",
              "      <td>0.0</td>\n",
              "      <td>unknown</td>\n",
              "      <td>no</td>\n",
              "    </tr>\n",
              "  </tbody>\n",
              "</table>\n",
              "</div>\n",
              "      <button class=\"colab-df-convert\" onclick=\"convertToInteractive('df-66b2a1b6-f9de-4afe-9a2d-6669edf7a440')\"\n",
              "              title=\"Convert this dataframe to an interactive table.\"\n",
              "              style=\"display:none;\">\n",
              "        \n",
              "  <svg xmlns=\"http://www.w3.org/2000/svg\" height=\"24px\"viewBox=\"0 0 24 24\"\n",
              "       width=\"24px\">\n",
              "    <path d=\"M0 0h24v24H0V0z\" fill=\"none\"/>\n",
              "    <path d=\"M18.56 5.44l.94 2.06.94-2.06 2.06-.94-2.06-.94-.94-2.06-.94 2.06-2.06.94zm-11 1L8.5 8.5l.94-2.06 2.06-.94-2.06-.94L8.5 2.5l-.94 2.06-2.06.94zm10 10l.94 2.06.94-2.06 2.06-.94-2.06-.94-.94-2.06-.94 2.06-2.06.94z\"/><path d=\"M17.41 7.96l-1.37-1.37c-.4-.4-.92-.59-1.43-.59-.52 0-1.04.2-1.43.59L10.3 9.45l-7.72 7.72c-.78.78-.78 2.05 0 2.83L4 21.41c.39.39.9.59 1.41.59.51 0 1.02-.2 1.41-.59l7.78-7.78 2.81-2.81c.8-.78.8-2.07 0-2.86zM5.41 20L4 18.59l7.72-7.72 1.47 1.35L5.41 20z\"/>\n",
              "  </svg>\n",
              "      </button>\n",
              "      \n",
              "  <style>\n",
              "    .colab-df-container {\n",
              "      display:flex;\n",
              "      flex-wrap:wrap;\n",
              "      gap: 12px;\n",
              "    }\n",
              "\n",
              "    .colab-df-convert {\n",
              "      background-color: #E8F0FE;\n",
              "      border: none;\n",
              "      border-radius: 50%;\n",
              "      cursor: pointer;\n",
              "      display: none;\n",
              "      fill: #1967D2;\n",
              "      height: 32px;\n",
              "      padding: 0 0 0 0;\n",
              "      width: 32px;\n",
              "    }\n",
              "\n",
              "    .colab-df-convert:hover {\n",
              "      background-color: #E2EBFA;\n",
              "      box-shadow: 0px 1px 2px rgba(60, 64, 67, 0.3), 0px 1px 3px 1px rgba(60, 64, 67, 0.15);\n",
              "      fill: #174EA6;\n",
              "    }\n",
              "\n",
              "    [theme=dark] .colab-df-convert {\n",
              "      background-color: #3B4455;\n",
              "      fill: #D2E3FC;\n",
              "    }\n",
              "\n",
              "    [theme=dark] .colab-df-convert:hover {\n",
              "      background-color: #434B5C;\n",
              "      box-shadow: 0px 1px 3px 1px rgba(0, 0, 0, 0.15);\n",
              "      filter: drop-shadow(0px 1px 2px rgba(0, 0, 0, 0.3));\n",
              "      fill: #FFFFFF;\n",
              "    }\n",
              "  </style>\n",
              "\n",
              "      <script>\n",
              "        const buttonEl =\n",
              "          document.querySelector('#df-66b2a1b6-f9de-4afe-9a2d-6669edf7a440 button.colab-df-convert');\n",
              "        buttonEl.style.display =\n",
              "          google.colab.kernel.accessAllowed ? 'block' : 'none';\n",
              "\n",
              "        async function convertToInteractive(key) {\n",
              "          const element = document.querySelector('#df-66b2a1b6-f9de-4afe-9a2d-6669edf7a440');\n",
              "          const dataTable =\n",
              "            await google.colab.kernel.invokeFunction('convertToInteractive',\n",
              "                                                     [key], {});\n",
              "          if (!dataTable) return;\n",
              "\n",
              "          const docLinkHtml = 'Like what you see? Visit the ' +\n",
              "            '<a target=\"_blank\" href=https://colab.research.google.com/notebooks/data_table.ipynb>data table notebook</a>'\n",
              "            + ' to learn more about interactive tables.';\n",
              "          element.innerHTML = '';\n",
              "          dataTable['output_type'] = 'display_data';\n",
              "          await google.colab.output.renderOutput(dataTable, element);\n",
              "          const docLink = document.createElement('div');\n",
              "          docLink.innerHTML = docLinkHtml;\n",
              "          element.appendChild(docLink);\n",
              "        }\n",
              "      </script>\n",
              "    </div>\n",
              "  </div>\n",
              "  "
            ]
          },
          "metadata": {},
          "execution_count": 6
        }
      ],
      "source": [
        "df.head()"
      ]
    },
    {
      "cell_type": "code",
      "execution_count": null,
      "metadata": {
        "colab": {
          "base_uri": "https://localhost:8080/",
          "height": 206
        },
        "id": "gRmGJhDlKVyK",
        "outputId": "242b18a6-efe1-4780-b092-ba29fa531b88"
      },
      "outputs": [
        {
          "output_type": "execute_result",
          "data": {
            "text/plain": [
              "       age          job   marital  education default  balance housing loan  \\\n",
              "37897   41  blue-collar   married  secondary      no      427     yes  yes   \n",
              "37898   36     services    single  secondary      no     -267     yes   no   \n",
              "37899   33   technician   married  secondary      no      318     yes   no   \n",
              "37900   32  blue-collar   married  secondary      no      169     yes   no   \n",
              "37901   39   management  divorced   tertiary      no      126      no   no   \n",
              "\n",
              "        contact  day month  duration  campaign  pdays  previous poutcome    y  \n",
              "37897  cellular   14   may     177.0       2.0   -1.0       0.0  unknown   no  \n",
              "37898  cellular   14   may      99.0       7.0  352.0       1.0  failure   no  \n",
              "37899  cellular   14   may     108.0       4.0  342.0      14.0    other   no  \n",
              "37900  cellular   14   may     291.0       2.0   -1.0       0.0  unknown   no  \n",
              "37901  cellular   14   NaN       NaN       NaN    NaN       NaN      NaN  NaN  "
            ],
            "text/html": [
              "\n",
              "  <div id=\"df-af787d2a-df0a-4692-ae15-c59dc144cbbb\">\n",
              "    <div class=\"colab-df-container\">\n",
              "      <div>\n",
              "<style scoped>\n",
              "    .dataframe tbody tr th:only-of-type {\n",
              "        vertical-align: middle;\n",
              "    }\n",
              "\n",
              "    .dataframe tbody tr th {\n",
              "        vertical-align: top;\n",
              "    }\n",
              "\n",
              "    .dataframe thead th {\n",
              "        text-align: right;\n",
              "    }\n",
              "</style>\n",
              "<table border=\"1\" class=\"dataframe\">\n",
              "  <thead>\n",
              "    <tr style=\"text-align: right;\">\n",
              "      <th></th>\n",
              "      <th>age</th>\n",
              "      <th>job</th>\n",
              "      <th>marital</th>\n",
              "      <th>education</th>\n",
              "      <th>default</th>\n",
              "      <th>balance</th>\n",
              "      <th>housing</th>\n",
              "      <th>loan</th>\n",
              "      <th>contact</th>\n",
              "      <th>day</th>\n",
              "      <th>month</th>\n",
              "      <th>duration</th>\n",
              "      <th>campaign</th>\n",
              "      <th>pdays</th>\n",
              "      <th>previous</th>\n",
              "      <th>poutcome</th>\n",
              "      <th>y</th>\n",
              "    </tr>\n",
              "  </thead>\n",
              "  <tbody>\n",
              "    <tr>\n",
              "      <th>37897</th>\n",
              "      <td>41</td>\n",
              "      <td>blue-collar</td>\n",
              "      <td>married</td>\n",
              "      <td>secondary</td>\n",
              "      <td>no</td>\n",
              "      <td>427</td>\n",
              "      <td>yes</td>\n",
              "      <td>yes</td>\n",
              "      <td>cellular</td>\n",
              "      <td>14</td>\n",
              "      <td>may</td>\n",
              "      <td>177.0</td>\n",
              "      <td>2.0</td>\n",
              "      <td>-1.0</td>\n",
              "      <td>0.0</td>\n",
              "      <td>unknown</td>\n",
              "      <td>no</td>\n",
              "    </tr>\n",
              "    <tr>\n",
              "      <th>37898</th>\n",
              "      <td>36</td>\n",
              "      <td>services</td>\n",
              "      <td>single</td>\n",
              "      <td>secondary</td>\n",
              "      <td>no</td>\n",
              "      <td>-267</td>\n",
              "      <td>yes</td>\n",
              "      <td>no</td>\n",
              "      <td>cellular</td>\n",
              "      <td>14</td>\n",
              "      <td>may</td>\n",
              "      <td>99.0</td>\n",
              "      <td>7.0</td>\n",
              "      <td>352.0</td>\n",
              "      <td>1.0</td>\n",
              "      <td>failure</td>\n",
              "      <td>no</td>\n",
              "    </tr>\n",
              "    <tr>\n",
              "      <th>37899</th>\n",
              "      <td>33</td>\n",
              "      <td>technician</td>\n",
              "      <td>married</td>\n",
              "      <td>secondary</td>\n",
              "      <td>no</td>\n",
              "      <td>318</td>\n",
              "      <td>yes</td>\n",
              "      <td>no</td>\n",
              "      <td>cellular</td>\n",
              "      <td>14</td>\n",
              "      <td>may</td>\n",
              "      <td>108.0</td>\n",
              "      <td>4.0</td>\n",
              "      <td>342.0</td>\n",
              "      <td>14.0</td>\n",
              "      <td>other</td>\n",
              "      <td>no</td>\n",
              "    </tr>\n",
              "    <tr>\n",
              "      <th>37900</th>\n",
              "      <td>32</td>\n",
              "      <td>blue-collar</td>\n",
              "      <td>married</td>\n",
              "      <td>secondary</td>\n",
              "      <td>no</td>\n",
              "      <td>169</td>\n",
              "      <td>yes</td>\n",
              "      <td>no</td>\n",
              "      <td>cellular</td>\n",
              "      <td>14</td>\n",
              "      <td>may</td>\n",
              "      <td>291.0</td>\n",
              "      <td>2.0</td>\n",
              "      <td>-1.0</td>\n",
              "      <td>0.0</td>\n",
              "      <td>unknown</td>\n",
              "      <td>no</td>\n",
              "    </tr>\n",
              "    <tr>\n",
              "      <th>37901</th>\n",
              "      <td>39</td>\n",
              "      <td>management</td>\n",
              "      <td>divorced</td>\n",
              "      <td>tertiary</td>\n",
              "      <td>no</td>\n",
              "      <td>126</td>\n",
              "      <td>no</td>\n",
              "      <td>no</td>\n",
              "      <td>cellular</td>\n",
              "      <td>14</td>\n",
              "      <td>NaN</td>\n",
              "      <td>NaN</td>\n",
              "      <td>NaN</td>\n",
              "      <td>NaN</td>\n",
              "      <td>NaN</td>\n",
              "      <td>NaN</td>\n",
              "      <td>NaN</td>\n",
              "    </tr>\n",
              "  </tbody>\n",
              "</table>\n",
              "</div>\n",
              "      <button class=\"colab-df-convert\" onclick=\"convertToInteractive('df-af787d2a-df0a-4692-ae15-c59dc144cbbb')\"\n",
              "              title=\"Convert this dataframe to an interactive table.\"\n",
              "              style=\"display:none;\">\n",
              "        \n",
              "  <svg xmlns=\"http://www.w3.org/2000/svg\" height=\"24px\"viewBox=\"0 0 24 24\"\n",
              "       width=\"24px\">\n",
              "    <path d=\"M0 0h24v24H0V0z\" fill=\"none\"/>\n",
              "    <path d=\"M18.56 5.44l.94 2.06.94-2.06 2.06-.94-2.06-.94-.94-2.06-.94 2.06-2.06.94zm-11 1L8.5 8.5l.94-2.06 2.06-.94-2.06-.94L8.5 2.5l-.94 2.06-2.06.94zm10 10l.94 2.06.94-2.06 2.06-.94-2.06-.94-.94-2.06-.94 2.06-2.06.94z\"/><path d=\"M17.41 7.96l-1.37-1.37c-.4-.4-.92-.59-1.43-.59-.52 0-1.04.2-1.43.59L10.3 9.45l-7.72 7.72c-.78.78-.78 2.05 0 2.83L4 21.41c.39.39.9.59 1.41.59.51 0 1.02-.2 1.41-.59l7.78-7.78 2.81-2.81c.8-.78.8-2.07 0-2.86zM5.41 20L4 18.59l7.72-7.72 1.47 1.35L5.41 20z\"/>\n",
              "  </svg>\n",
              "      </button>\n",
              "      \n",
              "  <style>\n",
              "    .colab-df-container {\n",
              "      display:flex;\n",
              "      flex-wrap:wrap;\n",
              "      gap: 12px;\n",
              "    }\n",
              "\n",
              "    .colab-df-convert {\n",
              "      background-color: #E8F0FE;\n",
              "      border: none;\n",
              "      border-radius: 50%;\n",
              "      cursor: pointer;\n",
              "      display: none;\n",
              "      fill: #1967D2;\n",
              "      height: 32px;\n",
              "      padding: 0 0 0 0;\n",
              "      width: 32px;\n",
              "    }\n",
              "\n",
              "    .colab-df-convert:hover {\n",
              "      background-color: #E2EBFA;\n",
              "      box-shadow: 0px 1px 2px rgba(60, 64, 67, 0.3), 0px 1px 3px 1px rgba(60, 64, 67, 0.15);\n",
              "      fill: #174EA6;\n",
              "    }\n",
              "\n",
              "    [theme=dark] .colab-df-convert {\n",
              "      background-color: #3B4455;\n",
              "      fill: #D2E3FC;\n",
              "    }\n",
              "\n",
              "    [theme=dark] .colab-df-convert:hover {\n",
              "      background-color: #434B5C;\n",
              "      box-shadow: 0px 1px 3px 1px rgba(0, 0, 0, 0.15);\n",
              "      filter: drop-shadow(0px 1px 2px rgba(0, 0, 0, 0.3));\n",
              "      fill: #FFFFFF;\n",
              "    }\n",
              "  </style>\n",
              "\n",
              "      <script>\n",
              "        const buttonEl =\n",
              "          document.querySelector('#df-af787d2a-df0a-4692-ae15-c59dc144cbbb button.colab-df-convert');\n",
              "        buttonEl.style.display =\n",
              "          google.colab.kernel.accessAllowed ? 'block' : 'none';\n",
              "\n",
              "        async function convertToInteractive(key) {\n",
              "          const element = document.querySelector('#df-af787d2a-df0a-4692-ae15-c59dc144cbbb');\n",
              "          const dataTable =\n",
              "            await google.colab.kernel.invokeFunction('convertToInteractive',\n",
              "                                                     [key], {});\n",
              "          if (!dataTable) return;\n",
              "\n",
              "          const docLinkHtml = 'Like what you see? Visit the ' +\n",
              "            '<a target=\"_blank\" href=https://colab.research.google.com/notebooks/data_table.ipynb>data table notebook</a>'\n",
              "            + ' to learn more about interactive tables.';\n",
              "          element.innerHTML = '';\n",
              "          dataTable['output_type'] = 'display_data';\n",
              "          await google.colab.output.renderOutput(dataTable, element);\n",
              "          const docLink = document.createElement('div');\n",
              "          docLink.innerHTML = docLinkHtml;\n",
              "          element.appendChild(docLink);\n",
              "        }\n",
              "      </script>\n",
              "    </div>\n",
              "  </div>\n",
              "  "
            ]
          },
          "metadata": {},
          "execution_count": 7
        }
      ],
      "source": [
        "df.tail()"
      ]
    },
    {
      "cell_type": "code",
      "execution_count": null,
      "metadata": {
        "colab": {
          "base_uri": "https://localhost:8080/"
        },
        "id": "0FTZO6NrKV1K",
        "outputId": "71e00512-7432-4455-95a0-4a74b2530e2e"
      },
      "outputs": [
        {
          "output_type": "execute_result",
          "data": {
            "text/plain": [
              "(37902, 17)"
            ]
          },
          "metadata": {},
          "execution_count": 8
        }
      ],
      "source": [
        "df.shape"
      ]
    },
    {
      "cell_type": "code",
      "execution_count": null,
      "metadata": {
        "colab": {
          "base_uri": "https://localhost:8080/"
        },
        "id": "eFj3lUBHKV4h",
        "outputId": "5fc0f84e-0df3-42d8-b06e-34f29c86ad34"
      },
      "outputs": [
        {
          "output_type": "stream",
          "name": "stdout",
          "text": [
            "<class 'pandas.core.frame.DataFrame'>\n",
            "RangeIndex: 37902 entries, 0 to 37901\n",
            "Data columns (total 17 columns):\n",
            " #   Column     Non-Null Count  Dtype  \n",
            "---  ------     --------------  -----  \n",
            " 0   age        37902 non-null  int64  \n",
            " 1   job        37902 non-null  object \n",
            " 2   marital    37902 non-null  object \n",
            " 3   education  37902 non-null  object \n",
            " 4   default    37902 non-null  object \n",
            " 5   balance    37902 non-null  int64  \n",
            " 6   housing    37902 non-null  object \n",
            " 7   loan       37902 non-null  object \n",
            " 8   contact    37902 non-null  object \n",
            " 9   day        37902 non-null  int64  \n",
            " 10  month      37901 non-null  object \n",
            " 11  duration   37901 non-null  float64\n",
            " 12  campaign   37901 non-null  float64\n",
            " 13  pdays      37901 non-null  float64\n",
            " 14  previous   37901 non-null  float64\n",
            " 15  poutcome   37901 non-null  object \n",
            " 16  y          37901 non-null  object \n",
            "dtypes: float64(4), int64(3), object(10)\n",
            "memory usage: 4.9+ MB\n"
          ]
        }
      ],
      "source": [
        "df.info()"
      ]
    },
    {
      "cell_type": "code",
      "execution_count": null,
      "metadata": {
        "colab": {
          "base_uri": "https://localhost:8080/"
        },
        "id": "rRQJ3YBRKV7b",
        "outputId": "bfe9eff0-9994-47ee-c97c-2794a301b715"
      },
      "outputs": [
        {
          "output_type": "execute_result",
          "data": {
            "text/plain": [
              "Index(['age', 'job', 'marital', 'education', 'default', 'balance', 'housing',\n",
              "       'loan', 'contact', 'day', 'month', 'duration', 'campaign', 'pdays',\n",
              "       'previous', 'poutcome', 'y'],\n",
              "      dtype='object')"
            ]
          },
          "metadata": {},
          "execution_count": 10
        }
      ],
      "source": [
        "df.columns"
      ]
    },
    {
      "cell_type": "code",
      "execution_count": null,
      "metadata": {
        "colab": {
          "base_uri": "https://localhost:8080/",
          "height": 300
        },
        "id": "FXPZ2v2bOMJf",
        "outputId": "c5d0bcc6-4363-45cb-9811-c33a99167290"
      },
      "outputs": [
        {
          "output_type": "execute_result",
          "data": {
            "text/plain": [
              "                age       balance           day      duration      campaign  \\\n",
              "count  37902.000000  37902.000000  37902.000000  37901.000000  37901.000000   \n",
              "mean      40.774445   1271.518627     16.008601    255.777051      3.263872   \n",
              "std        9.598387   2873.266389      8.365139    260.237104     48.449322   \n",
              "min       19.000000  -8019.000000      1.000000      0.000000      1.000000   \n",
              "25%       33.000000     52.000000      8.000000    100.000000      1.000000   \n",
              "50%       39.000000    406.000000     17.000000    175.000000      2.000000   \n",
              "75%       48.000000   1316.000000     21.000000    314.000000      3.000000   \n",
              "max       95.000000  98417.000000     31.000000   4918.000000   7661.000000   \n",
              "\n",
              "              pdays      previous  \n",
              "count  37901.000000  37901.000000  \n",
              "mean      27.834886      0.369040  \n",
              "std       84.587741      2.074364  \n",
              "min       -1.000000      0.000000  \n",
              "25%       -1.000000      0.000000  \n",
              "50%       -1.000000      0.000000  \n",
              "75%       -1.000000      0.000000  \n",
              "max      371.000000    275.000000  "
            ],
            "text/html": [
              "\n",
              "  <div id=\"df-7a07c1c2-5a23-43e7-94a9-960d9eaa5075\">\n",
              "    <div class=\"colab-df-container\">\n",
              "      <div>\n",
              "<style scoped>\n",
              "    .dataframe tbody tr th:only-of-type {\n",
              "        vertical-align: middle;\n",
              "    }\n",
              "\n",
              "    .dataframe tbody tr th {\n",
              "        vertical-align: top;\n",
              "    }\n",
              "\n",
              "    .dataframe thead th {\n",
              "        text-align: right;\n",
              "    }\n",
              "</style>\n",
              "<table border=\"1\" class=\"dataframe\">\n",
              "  <thead>\n",
              "    <tr style=\"text-align: right;\">\n",
              "      <th></th>\n",
              "      <th>age</th>\n",
              "      <th>balance</th>\n",
              "      <th>day</th>\n",
              "      <th>duration</th>\n",
              "      <th>campaign</th>\n",
              "      <th>pdays</th>\n",
              "      <th>previous</th>\n",
              "    </tr>\n",
              "  </thead>\n",
              "  <tbody>\n",
              "    <tr>\n",
              "      <th>count</th>\n",
              "      <td>37902.000000</td>\n",
              "      <td>37902.000000</td>\n",
              "      <td>37902.000000</td>\n",
              "      <td>37901.000000</td>\n",
              "      <td>37901.000000</td>\n",
              "      <td>37901.000000</td>\n",
              "      <td>37901.000000</td>\n",
              "    </tr>\n",
              "    <tr>\n",
              "      <th>mean</th>\n",
              "      <td>40.774445</td>\n",
              "      <td>1271.518627</td>\n",
              "      <td>16.008601</td>\n",
              "      <td>255.777051</td>\n",
              "      <td>3.263872</td>\n",
              "      <td>27.834886</td>\n",
              "      <td>0.369040</td>\n",
              "    </tr>\n",
              "    <tr>\n",
              "      <th>std</th>\n",
              "      <td>9.598387</td>\n",
              "      <td>2873.266389</td>\n",
              "      <td>8.365139</td>\n",
              "      <td>260.237104</td>\n",
              "      <td>48.449322</td>\n",
              "      <td>84.587741</td>\n",
              "      <td>2.074364</td>\n",
              "    </tr>\n",
              "    <tr>\n",
              "      <th>min</th>\n",
              "      <td>19.000000</td>\n",
              "      <td>-8019.000000</td>\n",
              "      <td>1.000000</td>\n",
              "      <td>0.000000</td>\n",
              "      <td>1.000000</td>\n",
              "      <td>-1.000000</td>\n",
              "      <td>0.000000</td>\n",
              "    </tr>\n",
              "    <tr>\n",
              "      <th>25%</th>\n",
              "      <td>33.000000</td>\n",
              "      <td>52.000000</td>\n",
              "      <td>8.000000</td>\n",
              "      <td>100.000000</td>\n",
              "      <td>1.000000</td>\n",
              "      <td>-1.000000</td>\n",
              "      <td>0.000000</td>\n",
              "    </tr>\n",
              "    <tr>\n",
              "      <th>50%</th>\n",
              "      <td>39.000000</td>\n",
              "      <td>406.000000</td>\n",
              "      <td>17.000000</td>\n",
              "      <td>175.000000</td>\n",
              "      <td>2.000000</td>\n",
              "      <td>-1.000000</td>\n",
              "      <td>0.000000</td>\n",
              "    </tr>\n",
              "    <tr>\n",
              "      <th>75%</th>\n",
              "      <td>48.000000</td>\n",
              "      <td>1316.000000</td>\n",
              "      <td>21.000000</td>\n",
              "      <td>314.000000</td>\n",
              "      <td>3.000000</td>\n",
              "      <td>-1.000000</td>\n",
              "      <td>0.000000</td>\n",
              "    </tr>\n",
              "    <tr>\n",
              "      <th>max</th>\n",
              "      <td>95.000000</td>\n",
              "      <td>98417.000000</td>\n",
              "      <td>31.000000</td>\n",
              "      <td>4918.000000</td>\n",
              "      <td>7661.000000</td>\n",
              "      <td>371.000000</td>\n",
              "      <td>275.000000</td>\n",
              "    </tr>\n",
              "  </tbody>\n",
              "</table>\n",
              "</div>\n",
              "      <button class=\"colab-df-convert\" onclick=\"convertToInteractive('df-7a07c1c2-5a23-43e7-94a9-960d9eaa5075')\"\n",
              "              title=\"Convert this dataframe to an interactive table.\"\n",
              "              style=\"display:none;\">\n",
              "        \n",
              "  <svg xmlns=\"http://www.w3.org/2000/svg\" height=\"24px\"viewBox=\"0 0 24 24\"\n",
              "       width=\"24px\">\n",
              "    <path d=\"M0 0h24v24H0V0z\" fill=\"none\"/>\n",
              "    <path d=\"M18.56 5.44l.94 2.06.94-2.06 2.06-.94-2.06-.94-.94-2.06-.94 2.06-2.06.94zm-11 1L8.5 8.5l.94-2.06 2.06-.94-2.06-.94L8.5 2.5l-.94 2.06-2.06.94zm10 10l.94 2.06.94-2.06 2.06-.94-2.06-.94-.94-2.06-.94 2.06-2.06.94z\"/><path d=\"M17.41 7.96l-1.37-1.37c-.4-.4-.92-.59-1.43-.59-.52 0-1.04.2-1.43.59L10.3 9.45l-7.72 7.72c-.78.78-.78 2.05 0 2.83L4 21.41c.39.39.9.59 1.41.59.51 0 1.02-.2 1.41-.59l7.78-7.78 2.81-2.81c.8-.78.8-2.07 0-2.86zM5.41 20L4 18.59l7.72-7.72 1.47 1.35L5.41 20z\"/>\n",
              "  </svg>\n",
              "      </button>\n",
              "      \n",
              "  <style>\n",
              "    .colab-df-container {\n",
              "      display:flex;\n",
              "      flex-wrap:wrap;\n",
              "      gap: 12px;\n",
              "    }\n",
              "\n",
              "    .colab-df-convert {\n",
              "      background-color: #E8F0FE;\n",
              "      border: none;\n",
              "      border-radius: 50%;\n",
              "      cursor: pointer;\n",
              "      display: none;\n",
              "      fill: #1967D2;\n",
              "      height: 32px;\n",
              "      padding: 0 0 0 0;\n",
              "      width: 32px;\n",
              "    }\n",
              "\n",
              "    .colab-df-convert:hover {\n",
              "      background-color: #E2EBFA;\n",
              "      box-shadow: 0px 1px 2px rgba(60, 64, 67, 0.3), 0px 1px 3px 1px rgba(60, 64, 67, 0.15);\n",
              "      fill: #174EA6;\n",
              "    }\n",
              "\n",
              "    [theme=dark] .colab-df-convert {\n",
              "      background-color: #3B4455;\n",
              "      fill: #D2E3FC;\n",
              "    }\n",
              "\n",
              "    [theme=dark] .colab-df-convert:hover {\n",
              "      background-color: #434B5C;\n",
              "      box-shadow: 0px 1px 3px 1px rgba(0, 0, 0, 0.15);\n",
              "      filter: drop-shadow(0px 1px 2px rgba(0, 0, 0, 0.3));\n",
              "      fill: #FFFFFF;\n",
              "    }\n",
              "  </style>\n",
              "\n",
              "      <script>\n",
              "        const buttonEl =\n",
              "          document.querySelector('#df-7a07c1c2-5a23-43e7-94a9-960d9eaa5075 button.colab-df-convert');\n",
              "        buttonEl.style.display =\n",
              "          google.colab.kernel.accessAllowed ? 'block' : 'none';\n",
              "\n",
              "        async function convertToInteractive(key) {\n",
              "          const element = document.querySelector('#df-7a07c1c2-5a23-43e7-94a9-960d9eaa5075');\n",
              "          const dataTable =\n",
              "            await google.colab.kernel.invokeFunction('convertToInteractive',\n",
              "                                                     [key], {});\n",
              "          if (!dataTable) return;\n",
              "\n",
              "          const docLinkHtml = 'Like what you see? Visit the ' +\n",
              "            '<a target=\"_blank\" href=https://colab.research.google.com/notebooks/data_table.ipynb>data table notebook</a>'\n",
              "            + ' to learn more about interactive tables.';\n",
              "          element.innerHTML = '';\n",
              "          dataTable['output_type'] = 'display_data';\n",
              "          await google.colab.output.renderOutput(dataTable, element);\n",
              "          const docLink = document.createElement('div');\n",
              "          docLink.innerHTML = docLinkHtml;\n",
              "          element.appendChild(docLink);\n",
              "        }\n",
              "      </script>\n",
              "    </div>\n",
              "  </div>\n",
              "  "
            ]
          },
          "metadata": {},
          "execution_count": 11
        }
      ],
      "source": [
        "df.describe()"
      ]
    },
    {
      "cell_type": "markdown",
      "metadata": {
        "id": "-rquy8Qmyyv_"
      },
      "source": [
        "## **Pre-Processing Steps**"
      ]
    },
    {
      "cell_type": "markdown",
      "metadata": {
        "id": "L64j1GoSzSFx"
      },
      "source": [
        "Seperating categorical and numerical columns"
      ]
    },
    {
      "cell_type": "code",
      "execution_count": null,
      "metadata": {
        "colab": {
          "base_uri": "https://localhost:8080/"
        },
        "id": "qDQaiYNNtg1V",
        "outputId": "0a4836a0-4fc7-430b-c3ad-6167596d0ab7"
      },
      "outputs": [
        {
          "output_type": "stream",
          "name": "stdout",
          "text": [
            "Categorical features:  ['job', 'marital', 'education', 'default', 'housing', 'loan', 'contact', 'month', 'poutcome', 'y']\n",
            "Numerical features:  ['age', 'balance', 'day', 'duration', 'campaign', 'pdays', 'previous']\n"
          ]
        }
      ],
      "source": [
        "# Identify categorical and numerical features\n",
        "categorical_features = []\n",
        "numerical_features = []\n",
        "\n",
        "for column in df.columns:\n",
        "    if df[column].dtype == 'object':\n",
        "        categorical_features.append(column)\n",
        "    else:\n",
        "        numerical_features.append(column)\n",
        "\n",
        "# Print results\n",
        "print(\"Categorical features: \", categorical_features)\n",
        "print(\"Numerical features: \", numerical_features)\n",
        "\n"
      ]
    },
    {
      "cell_type": "code",
      "source": [
        "# Select categorical columns (object data type)\n",
        "cat_cols = df.select_dtypes(include=[\"object\"])\n",
        "\n",
        "# Loop through each categorical column and print unique values\n",
        "for col in cat_cols:\n",
        "    print(f\"Unique values for column '{col}':\")\n",
        "    print(df[col].unique())\n",
        "    print()"
      ],
      "metadata": {
        "colab": {
          "base_uri": "https://localhost:8080/"
        },
        "id": "KkyYO6_xKktl",
        "outputId": "dc4f9e91-ebee-4982-af61-7583f5789c29"
      },
      "execution_count": null,
      "outputs": [
        {
          "output_type": "stream",
          "name": "stdout",
          "text": [
            "Unique values for column 'job':\n",
            "['management' 'technician' 'entrepreneur' 'blue-collar' 'unknown'\n",
            " 'retired' 'admin.' 'services' 'self-employed' 'unemployed' 'housemaid'\n",
            " 'student']\n",
            "\n",
            "Unique values for column 'marital':\n",
            "['married' 'single' 'divorced']\n",
            "\n",
            "Unique values for column 'education':\n",
            "['tertiary' 'secondary' 'unknown' 'primary']\n",
            "\n",
            "Unique values for column 'default':\n",
            "['no' 'yes']\n",
            "\n",
            "Unique values for column 'housing':\n",
            "['yes' 'no']\n",
            "\n",
            "Unique values for column 'loan':\n",
            "['no' 'yes']\n",
            "\n",
            "Unique values for column 'contact':\n",
            "['unknown' 'cellular' 'telephone']\n",
            "\n",
            "Unique values for column 'month':\n",
            "['may' 'jun' 'jul' 'aug' 'oct' 'nov' 'dec' 'jan' 'feb' 'mar' 'apr' nan]\n",
            "\n",
            "Unique values for column 'poutcome':\n",
            "['unknown' 'failure' 'other' 'success' nan]\n",
            "\n",
            "Unique values for column 'y':\n",
            "['no' 'yes' nan]\n",
            "\n"
          ]
        }
      ]
    },
    {
      "cell_type": "code",
      "execution_count": null,
      "metadata": {
        "colab": {
          "base_uri": "https://localhost:8080/"
        },
        "id": "Uv5KbLsUnMYe",
        "outputId": "d7f2246b-7c69-4129-be72-8b5b6f9fbf3f"
      },
      "outputs": [
        {
          "output_type": "stream",
          "name": "stdout",
          "text": [
            "Mapping of categories to labels for job: {'management': 0, 'technician': 1, 'entrepreneur': 2, 'blue-collar': 3, 'unknown': 4, 'retired': 5, 'admin.': 6, 'services': 7, 'self-employed': 8, 'unemployed': 9, 'housemaid': 10, 'student': 11}\n",
            "Mapping of categories to labels for marital: {'married': 0, 'single': 1, 'divorced': 2}\n",
            "Mapping of categories to labels for education: {'tertiary': 0, 'secondary': 1, 'unknown': 2, 'primary': 3}\n",
            "Mapping of categories to labels for default: {'no': 0, 'yes': 1}\n",
            "Mapping of categories to labels for housing: {'yes': 0, 'no': 1}\n",
            "Mapping of categories to labels for loan: {'no': 0, 'yes': 1}\n",
            "Mapping of categories to labels for contact: {'unknown': 0, 'cellular': 1, 'telephone': 2}\n",
            "Mapping of categories to labels for month: {'may': 0, 'jun': 1, 'jul': 2, 'aug': 3, 'oct': 4, 'nov': 5, 'dec': 6, 'jan': 7, 'feb': 8, 'mar': 9, 'apr': 10, nan: 11}\n",
            "Mapping of categories to labels for poutcome: {'unknown': 0, 'failure': 1, 'other': 2, 'success': 3, nan: 4}\n",
            "Mapping of categories to labels for y: {'no': 0, 'yes': 1, nan: 2}\n"
          ]
        }
      ],
      "source": [
        "# List of categorical features\n",
        "cat_features = ['job', 'marital', 'education', 'default', 'housing', 'loan', 'contact', 'month', 'poutcome', 'y']\n",
        "\n",
        "# Create a dictionary to store the mapping of categories to labels\n",
        "cat_mapping = {}\n",
        "\n",
        "# Loop through each categorical feature and encode the categories\n",
        "for feature in cat_features:\n",
        "    unique_cats = df[feature].unique()\n",
        "    cat_mapping[feature] = {cat: label for label, cat in enumerate(unique_cats)}\n",
        "    df[feature] = df[feature].apply(lambda x: cat_mapping[feature][x])\n",
        "\n",
        "# Print the mapping of categories to labels for each categorical feature\n",
        "for feature in cat_features:\n",
        "    print(f'Mapping of categories to labels for {feature}: {cat_mapping[feature]}')\n"
      ]
    },
    {
      "cell_type": "code",
      "execution_count": null,
      "metadata": {
        "colab": {
          "base_uri": "https://localhost:8080/",
          "height": 206
        },
        "id": "5i08cOoPqQt7",
        "outputId": "f5f5ec47-70ec-4573-a794-04131b669de0"
      },
      "outputs": [
        {
          "output_type": "execute_result",
          "data": {
            "text/plain": [
              "   age  job  marital  education  default  balance  housing  loan  contact  \\\n",
              "0   58    0        0          0        0     2143        0     0        0   \n",
              "1   44    1        1          1        0       29        0     0        0   \n",
              "2   33    2        0          1        0        2        0     1        0   \n",
              "3   47    3        0          2        0     1506        0     0        0   \n",
              "4   33    4        1          2        0        1        1     0        0   \n",
              "\n",
              "   day  month  duration  campaign  pdays  previous  poutcome  y  \n",
              "0    5      0     261.0       1.0   -1.0       0.0         0  0  \n",
              "1    5      0     151.0       1.0   -1.0       0.0         0  0  \n",
              "2    5      0      76.0       1.0   -1.0       0.0         0  0  \n",
              "3    5      0      92.0       1.0   -1.0       0.0         0  0  \n",
              "4    5      0     198.0       1.0   -1.0       0.0         0  0  "
            ],
            "text/html": [
              "\n",
              "  <div id=\"df-7d2b3943-772e-4543-89d2-333611321045\">\n",
              "    <div class=\"colab-df-container\">\n",
              "      <div>\n",
              "<style scoped>\n",
              "    .dataframe tbody tr th:only-of-type {\n",
              "        vertical-align: middle;\n",
              "    }\n",
              "\n",
              "    .dataframe tbody tr th {\n",
              "        vertical-align: top;\n",
              "    }\n",
              "\n",
              "    .dataframe thead th {\n",
              "        text-align: right;\n",
              "    }\n",
              "</style>\n",
              "<table border=\"1\" class=\"dataframe\">\n",
              "  <thead>\n",
              "    <tr style=\"text-align: right;\">\n",
              "      <th></th>\n",
              "      <th>age</th>\n",
              "      <th>job</th>\n",
              "      <th>marital</th>\n",
              "      <th>education</th>\n",
              "      <th>default</th>\n",
              "      <th>balance</th>\n",
              "      <th>housing</th>\n",
              "      <th>loan</th>\n",
              "      <th>contact</th>\n",
              "      <th>day</th>\n",
              "      <th>month</th>\n",
              "      <th>duration</th>\n",
              "      <th>campaign</th>\n",
              "      <th>pdays</th>\n",
              "      <th>previous</th>\n",
              "      <th>poutcome</th>\n",
              "      <th>y</th>\n",
              "    </tr>\n",
              "  </thead>\n",
              "  <tbody>\n",
              "    <tr>\n",
              "      <th>0</th>\n",
              "      <td>58</td>\n",
              "      <td>0</td>\n",
              "      <td>0</td>\n",
              "      <td>0</td>\n",
              "      <td>0</td>\n",
              "      <td>2143</td>\n",
              "      <td>0</td>\n",
              "      <td>0</td>\n",
              "      <td>0</td>\n",
              "      <td>5</td>\n",
              "      <td>0</td>\n",
              "      <td>261.0</td>\n",
              "      <td>1.0</td>\n",
              "      <td>-1.0</td>\n",
              "      <td>0.0</td>\n",
              "      <td>0</td>\n",
              "      <td>0</td>\n",
              "    </tr>\n",
              "    <tr>\n",
              "      <th>1</th>\n",
              "      <td>44</td>\n",
              "      <td>1</td>\n",
              "      <td>1</td>\n",
              "      <td>1</td>\n",
              "      <td>0</td>\n",
              "      <td>29</td>\n",
              "      <td>0</td>\n",
              "      <td>0</td>\n",
              "      <td>0</td>\n",
              "      <td>5</td>\n",
              "      <td>0</td>\n",
              "      <td>151.0</td>\n",
              "      <td>1.0</td>\n",
              "      <td>-1.0</td>\n",
              "      <td>0.0</td>\n",
              "      <td>0</td>\n",
              "      <td>0</td>\n",
              "    </tr>\n",
              "    <tr>\n",
              "      <th>2</th>\n",
              "      <td>33</td>\n",
              "      <td>2</td>\n",
              "      <td>0</td>\n",
              "      <td>1</td>\n",
              "      <td>0</td>\n",
              "      <td>2</td>\n",
              "      <td>0</td>\n",
              "      <td>1</td>\n",
              "      <td>0</td>\n",
              "      <td>5</td>\n",
              "      <td>0</td>\n",
              "      <td>76.0</td>\n",
              "      <td>1.0</td>\n",
              "      <td>-1.0</td>\n",
              "      <td>0.0</td>\n",
              "      <td>0</td>\n",
              "      <td>0</td>\n",
              "    </tr>\n",
              "    <tr>\n",
              "      <th>3</th>\n",
              "      <td>47</td>\n",
              "      <td>3</td>\n",
              "      <td>0</td>\n",
              "      <td>2</td>\n",
              "      <td>0</td>\n",
              "      <td>1506</td>\n",
              "      <td>0</td>\n",
              "      <td>0</td>\n",
              "      <td>0</td>\n",
              "      <td>5</td>\n",
              "      <td>0</td>\n",
              "      <td>92.0</td>\n",
              "      <td>1.0</td>\n",
              "      <td>-1.0</td>\n",
              "      <td>0.0</td>\n",
              "      <td>0</td>\n",
              "      <td>0</td>\n",
              "    </tr>\n",
              "    <tr>\n",
              "      <th>4</th>\n",
              "      <td>33</td>\n",
              "      <td>4</td>\n",
              "      <td>1</td>\n",
              "      <td>2</td>\n",
              "      <td>0</td>\n",
              "      <td>1</td>\n",
              "      <td>1</td>\n",
              "      <td>0</td>\n",
              "      <td>0</td>\n",
              "      <td>5</td>\n",
              "      <td>0</td>\n",
              "      <td>198.0</td>\n",
              "      <td>1.0</td>\n",
              "      <td>-1.0</td>\n",
              "      <td>0.0</td>\n",
              "      <td>0</td>\n",
              "      <td>0</td>\n",
              "    </tr>\n",
              "  </tbody>\n",
              "</table>\n",
              "</div>\n",
              "      <button class=\"colab-df-convert\" onclick=\"convertToInteractive('df-7d2b3943-772e-4543-89d2-333611321045')\"\n",
              "              title=\"Convert this dataframe to an interactive table.\"\n",
              "              style=\"display:none;\">\n",
              "        \n",
              "  <svg xmlns=\"http://www.w3.org/2000/svg\" height=\"24px\"viewBox=\"0 0 24 24\"\n",
              "       width=\"24px\">\n",
              "    <path d=\"M0 0h24v24H0V0z\" fill=\"none\"/>\n",
              "    <path d=\"M18.56 5.44l.94 2.06.94-2.06 2.06-.94-2.06-.94-.94-2.06-.94 2.06-2.06.94zm-11 1L8.5 8.5l.94-2.06 2.06-.94-2.06-.94L8.5 2.5l-.94 2.06-2.06.94zm10 10l.94 2.06.94-2.06 2.06-.94-2.06-.94-.94-2.06-.94 2.06-2.06.94z\"/><path d=\"M17.41 7.96l-1.37-1.37c-.4-.4-.92-.59-1.43-.59-.52 0-1.04.2-1.43.59L10.3 9.45l-7.72 7.72c-.78.78-.78 2.05 0 2.83L4 21.41c.39.39.9.59 1.41.59.51 0 1.02-.2 1.41-.59l7.78-7.78 2.81-2.81c.8-.78.8-2.07 0-2.86zM5.41 20L4 18.59l7.72-7.72 1.47 1.35L5.41 20z\"/>\n",
              "  </svg>\n",
              "      </button>\n",
              "      \n",
              "  <style>\n",
              "    .colab-df-container {\n",
              "      display:flex;\n",
              "      flex-wrap:wrap;\n",
              "      gap: 12px;\n",
              "    }\n",
              "\n",
              "    .colab-df-convert {\n",
              "      background-color: #E8F0FE;\n",
              "      border: none;\n",
              "      border-radius: 50%;\n",
              "      cursor: pointer;\n",
              "      display: none;\n",
              "      fill: #1967D2;\n",
              "      height: 32px;\n",
              "      padding: 0 0 0 0;\n",
              "      width: 32px;\n",
              "    }\n",
              "\n",
              "    .colab-df-convert:hover {\n",
              "      background-color: #E2EBFA;\n",
              "      box-shadow: 0px 1px 2px rgba(60, 64, 67, 0.3), 0px 1px 3px 1px rgba(60, 64, 67, 0.15);\n",
              "      fill: #174EA6;\n",
              "    }\n",
              "\n",
              "    [theme=dark] .colab-df-convert {\n",
              "      background-color: #3B4455;\n",
              "      fill: #D2E3FC;\n",
              "    }\n",
              "\n",
              "    [theme=dark] .colab-df-convert:hover {\n",
              "      background-color: #434B5C;\n",
              "      box-shadow: 0px 1px 3px 1px rgba(0, 0, 0, 0.15);\n",
              "      filter: drop-shadow(0px 1px 2px rgba(0, 0, 0, 0.3));\n",
              "      fill: #FFFFFF;\n",
              "    }\n",
              "  </style>\n",
              "\n",
              "      <script>\n",
              "        const buttonEl =\n",
              "          document.querySelector('#df-7d2b3943-772e-4543-89d2-333611321045 button.colab-df-convert');\n",
              "        buttonEl.style.display =\n",
              "          google.colab.kernel.accessAllowed ? 'block' : 'none';\n",
              "\n",
              "        async function convertToInteractive(key) {\n",
              "          const element = document.querySelector('#df-7d2b3943-772e-4543-89d2-333611321045');\n",
              "          const dataTable =\n",
              "            await google.colab.kernel.invokeFunction('convertToInteractive',\n",
              "                                                     [key], {});\n",
              "          if (!dataTable) return;\n",
              "\n",
              "          const docLinkHtml = 'Like what you see? Visit the ' +\n",
              "            '<a target=\"_blank\" href=https://colab.research.google.com/notebooks/data_table.ipynb>data table notebook</a>'\n",
              "            + ' to learn more about interactive tables.';\n",
              "          element.innerHTML = '';\n",
              "          dataTable['output_type'] = 'display_data';\n",
              "          await google.colab.output.renderOutput(dataTable, element);\n",
              "          const docLink = document.createElement('div');\n",
              "          docLink.innerHTML = docLinkHtml;\n",
              "          element.appendChild(docLink);\n",
              "        }\n",
              "      </script>\n",
              "    </div>\n",
              "  </div>\n",
              "  "
            ]
          },
          "metadata": {},
          "execution_count": 15
        }
      ],
      "source": [
        "df.head()"
      ]
    },
    {
      "cell_type": "code",
      "execution_count": null,
      "metadata": {
        "colab": {
          "base_uri": "https://localhost:8080/"
        },
        "id": "_w-k5a7U1ius",
        "outputId": "f5e7ac48-701e-49e9-c7ac-533d4f0edb51"
      },
      "outputs": [
        {
          "output_type": "execute_result",
          "data": {
            "text/plain": [
              "(37902, 17)"
            ]
          },
          "metadata": {},
          "execution_count": 16
        }
      ],
      "source": [
        "df.shape"
      ]
    },
    {
      "cell_type": "code",
      "execution_count": null,
      "metadata": {
        "colab": {
          "base_uri": "https://localhost:8080/"
        },
        "id": "XU4nQcQ91iys",
        "outputId": "6a768dfc-de8d-4f60-eec4-e352b09cc12a"
      },
      "outputs": [
        {
          "output_type": "stream",
          "name": "stdout",
          "text": [
            "age          0\n",
            "job          0\n",
            "marital      0\n",
            "education    0\n",
            "default      0\n",
            "balance      0\n",
            "housing      0\n",
            "loan         0\n",
            "contact      0\n",
            "day          0\n",
            "month        0\n",
            "duration     1\n",
            "campaign     1\n",
            "pdays        1\n",
            "previous     1\n",
            "poutcome     0\n",
            "y            0\n",
            "dtype: int64\n"
          ]
        }
      ],
      "source": [
        "# Check for missing values in each column\n",
        "num_missing = df.isnull().sum()\n",
        "\n",
        "# Print the number of missing values in each column\n",
        "print(num_missing)"
      ]
    },
    {
      "cell_type": "code",
      "execution_count": null,
      "metadata": {
        "id": "xIm7qxs11i2N"
      },
      "outputs": [],
      "source": [
        "# Loop through each categorical column in the dataframe and print the unique values\n",
        "cat_cols = df.select_dtypes(include='object').columns\n",
        "for col in cat_cols:\n",
        "    unique_values = df[col].unique()\n",
        "    print(f'Unique values in column \"{col}\": {unique_values}')"
      ]
    },
    {
      "cell_type": "code",
      "execution_count": null,
      "metadata": {
        "id": "KZkKIrmF1i6Y"
      },
      "outputs": [],
      "source": [
        "# Check for special characters in the dataset\n",
        "for col in df.columns:\n",
        "    if df[col].dtype == object:\n",
        "        special_chars = set([char for val in df[col] for char in str(val) if not char.isalnum()])\n",
        "        if len(special_chars) > 0:\n",
        "            print(f'Special characters found in column \"{col}\": {special_chars}')\n",
        "\n",
        "## Check for NA values in the dataset\n",
        "if df.isnull().sum().sum() > 0:\n",
        "    print('NA values found in the dataset.')"
      ]
    },
    {
      "cell_type": "code",
      "source": [
        "   # Fill the NA values with the mean\n",
        "   df.fillna(df.median(), inplace=True) # Use median"
      ],
      "metadata": {
        "id": "UPSg3vDxMymd"
      },
      "execution_count": null,
      "outputs": []
    },
    {
      "cell_type": "markdown",
      "metadata": {
        "id": "cLFsQ6KnRPqh"
      },
      "source": [
        "**Analysis of Categorical Data**"
      ]
    },
    {
      "cell_type": "code",
      "execution_count": null,
      "metadata": {
        "colab": {
          "base_uri": "https://localhost:8080/",
          "height": 295
        },
        "id": "-6I2zmRAxxrt",
        "outputId": "1657f71f-a4fb-41f9-99cf-0c485161465a"
      },
      "outputs": [
        {
          "output_type": "display_data",
          "data": {
            "text/plain": [
              "<Figure size 432x288 with 1 Axes>"
            ],
            "image/png": "[encoded data removed]"
          },
          "metadata": {
            "needs_background": "light"
          }
        }
      ],
      "source": [
        "\n",
        "# Select a categorical variable to analyze\n",
        "categorical_var = 'marital'\n",
        "\n",
        "# Calculate frequency counts\n",
        "freq_counts = df[categorical_var].value_counts()\n",
        "\n",
        "# Create a bar graph of the frequency counts\n",
        "plt.bar(freq_counts.index, freq_counts.values)\n",
        "\n",
        "# Add labels and title\n",
        "plt.xlabel(categorical_var)\n",
        "plt.ylabel('Frequency')\n",
        "plt.title('Frequency of ' + categorical_var)\n",
        "\n",
        "# Show the graph\n",
        "plt.show()"
      ]
    },
    {
      "cell_type": "markdown",
      "metadata": {
        "id": "_gFWgRotRrbi"
      },
      "source": [
        "From the above graph , we can see that the **martial column** has three class values under which** married class** has a highest count of 25000 and **divorced class** has a lowest count of 5000.\n",
        " \n",
        "A bar plot or bar chart is a graph that represents the category of data with rectangular bars with lengths and heights that is proportional "
      ]
    },
    {
      "cell_type": "code",
      "execution_count": null,
      "metadata": {
        "colab": {
          "base_uri": "https://localhost:8080/",
          "height": 295
        },
        "id": "QJYeRdx6yFM_",
        "outputId": "8474cda0-d28d-4cad-b3fd-64525f42ad68"
      },
      "outputs": [
        {
          "output_type": "display_data",
          "data": {
            "text/plain": [
              "<Figure size 432x288 with 1 Axes>"
            ],
            "image/png": "[encoded data removed]"
          },
          "metadata": {
            "needs_background": "light"
          }
        }
      ],
      "source": [
        "# Select a categorical variable to analyze\n",
        "categorical_var = 'education'\n",
        "\n",
        "# Calculate frequency counts\n",
        "freq_counts = df[categorical_var].value_counts()\n",
        "\n",
        "# Create a bar graph of the frequency counts\n",
        "plt.bar(freq_counts.index, freq_counts.values)\n",
        "\n",
        "# Add labels and title\n",
        "plt.xlabel(categorical_var)\n",
        "plt.ylabel('Frequency')\n",
        "plt.title('Frequency of ' + categorical_var)\n",
        "\n",
        "# Show the graph\n",
        "plt.show()"
      ]
    },
    {
      "cell_type": "markdown",
      "metadata": {
        "id": "7G4vR_7-S7lT"
      },
      "source": [
        "From the above graph , we can see that the **education column** has 4 class values under which** secondary class** has a highest count of 25000 and **unknown class** has a lowest count of 2500.\n",
        " \n",
        "A bar plot or bar chart is a graph that represents the category of data with rectangular bars with lengths and heights that is proportional "
      ]
    },
    {
      "cell_type": "code",
      "execution_count": null,
      "metadata": {
        "colab": {
          "base_uri": "https://localhost:8080/",
          "height": 264
        },
        "id": "xXPd2obqzg8u",
        "outputId": "3b63b544-e9a4-48e2-e9e8-43402a66bd05"
      },
      "outputs": [
        {
          "output_type": "display_data",
          "data": {
            "text/plain": [
              "<Figure size 432x288 with 1 Axes>"
            ],
            "image/png": "[encoded data removed]"
          },
          "metadata": {}
        }
      ],
      "source": [
        "# Extract the categorical data column\n",
        "category_data = df['housing']\n",
        "\n",
        "# Count the number of occurrences of each category\n",
        "category_counts = category_data.value_counts()\n",
        "\n",
        "# Create the pie chart\n",
        "fig1, ax1 = plt.subplots()\n",
        "ax1.pie(category_counts.values, labels=category_counts.index, autopct='%1.1f%%', startangle=90)\n",
        "ax1.axis('equal')  # Equal aspect ratio ensures that pie is drawn as a circle.\n",
        "plt.title('housing Status Distribution')\n",
        "plt.show()"
      ]
    },
    {
      "cell_type": "markdown",
      "metadata": {
        "id": "mmyRVvTFUZVT"
      },
      "source": [
        "From the above pie chart , we can see that the **housing column** has two class values under which** yes** is distributed upto 55.6% and **no** is distributed upto 44.4%"
      ]
    },
    {
      "cell_type": "code",
      "execution_count": null,
      "metadata": {
        "colab": {
          "base_uri": "https://localhost:8080/",
          "height": 264
        },
        "id": "sB7xfYg99vpX",
        "outputId": "90b93305-c05f-40fa-8143-a8ed795cf8af"
      },
      "outputs": [
        {
          "output_type": "display_data",
          "data": {
            "text/plain": [
              "<Figure size 432x288 with 1 Axes>"
            ],
            "image/png": "[encoded data removed]"
          },
          "metadata": {}
        }
      ],
      "source": [
        "# Extract the categorical data column\n",
        "category_data = df['loan']\n",
        "\n",
        "# Count the number of occurrences of each category\n",
        "category_counts = category_data.value_counts()\n",
        "\n",
        "# Create the pie chart\n",
        "fig1, ax1 = plt.subplots()\n",
        "ax1.pie(category_counts.values, labels=category_counts.index, autopct='%1.1f%%', startangle=90)\n",
        "ax1.axis('equal')  # Equal aspect ratio ensures that pie is drawn as a circle.\n",
        "plt.title('loan Status Distribution')\n",
        "plt.show()"
      ]
    },
    {
      "cell_type": "markdown",
      "metadata": {
        "id": "-_0CVGPNU6N3"
      },
      "source": [
        "From the above pie chart , we can see that the **loan column** has two class values under which** yes** is distributed upto 16% and **no** is distributed upto 84.00 %"
      ]
    },
    {
      "cell_type": "code",
      "execution_count": null,
      "metadata": {
        "colab": {
          "base_uri": "https://localhost:8080/",
          "height": 267
        },
        "id": "zHN-P20QlAlZ",
        "outputId": "0aac576f-b794-42d5-f4ca-dd414461368d"
      },
      "outputs": [
        {
          "output_type": "display_data",
          "data": {
            "text/plain": [
              "<Figure size 432x288 with 1 Axes>"
            ],
            "image/png": "[encoded data removed]"
          },
          "metadata": {}
        }
      ],
      "source": [
        "# Extract the categorical data column\n",
        "category_data = df['y']\n",
        "\n",
        "# Count the number of occurrences of each category\n",
        "category_counts = category_data.value_counts()\n",
        "\n",
        "# Create the pie chart\n",
        "fig1, ax1 = plt.subplots()\n",
        "ax1.pie(category_counts.values, labels=category_counts.index, autopct='%1.1f%%', startangle=90)\n",
        "ax1.axis('equal')  # Equal aspect ratio ensures that pie is drawn as a circle.\n",
        "plt.title('Target variable')\n",
        "plt.show()"
      ]
    },
    {
      "cell_type": "code",
      "execution_count": null,
      "metadata": {
        "colab": {
          "base_uri": "https://localhost:8080/",
          "height": 585
        },
        "id": "WaWNBwik-Egk",
        "outputId": "ca9b330f-1fc4-4ab5-9cef-c62e1af52be0"
      },
      "outputs": [
        {
          "output_type": "display_data",
          "data": {
            "text/plain": [
              "<Figure size 1440x576 with 10 Axes>"
            ],
            "image/png": "[encoded data removed]"
          },
          "metadata": {
            "needs_background": "light"
          }
        }
      ],
      "source": [
        "# Select the categorical and numerical features\n",
        "cat_features = ['job', 'marital', 'education', 'default', 'housing', 'loan', 'contact', 'month', 'poutcome', 'y']\n",
        "num_features = ['age', 'balance', 'day', 'duration', 'campaign', 'pdays', 'previous']\n",
        "\n",
        "# Generate a cross-tabulation table for the categorical features\n",
        "fig, axs = plt.subplots(nrows=2, ncols=5, figsize=(20, 8))\n",
        "for i, feature in enumerate(cat_features):\n",
        "    ct = pd.crosstab(index=df[feature], columns='count')\n",
        "    ax = axs[i // 5, i % 5]\n",
        "    ct.plot(kind='bar', legend=None, ax=ax)  # set the color of the bars to blue\n",
        "    ax.set_title(feature)\n",
        "plt.tight_layout()\n",
        "plt.show()\n",
        "\n"
      ]
    },
    {
      "cell_type": "code",
      "execution_count": null,
      "metadata": {
        "id": "dzfhblHly2mE"
      },
      "outputs": [],
      "source": []
    },
    {
      "cell_type": "code",
      "execution_count": null,
      "metadata": {
        "colab": {
          "base_uri": "https://localhost:8080/"
        },
        "id": "EA_u8OEFFz8o",
        "outputId": "deac84d2-afac-4b3c-ec6b-6d4602f6e401"
      },
      "outputs": [
        {
          "output_type": "stream",
          "name": "stdout",
          "text": [
            "Mode of job is 3, and it appears in 23.30% of the data.\n",
            "Mode of marital is 0, and it appears in 61.74% of the data.\n",
            "Mode of education is 1, and it appears in 52.33% of the data.\n",
            "Mode of default is 0, and it appears in 97.92% of the data.\n",
            "Mode of housing is 0, and it appears in 59.29% of the data.\n",
            "Mode of loan is 0, and it appears in 82.37% of the data.\n",
            "Mode of contact is 1, and it appears in 60.56% of the data.\n",
            "Mode of month is 0, and it appears in 30.82% of the data.\n",
            "Mode of poutcome is 0, and it appears in 87.92% of the data.\n",
            "Mode of y is 0, and it appears in 93.21% of the data.\n"
          ]
        }
      ],
      "source": [
        "# Iterate through each categorical feature and find the mode and its percentage\n",
        "for feature in cat_features:\n",
        "    mode_value = df[feature].mode()[0]\n",
        "    mode_percent = (df[feature] == mode_value).mean() * 100\n",
        "    print(f\"Mode of {feature} is {mode_value}, and it appears in {mode_percent:.2f}% of the data.\")"
      ]
    },
    {
      "cell_type": "code",
      "execution_count": null,
      "metadata": {
        "colab": {
          "base_uri": "https://localhost:8080/",
          "height": 441
        },
        "id": "gsbX-VsZKVSC",
        "outputId": "5a45375a-43f9-41ce-9dcf-569c96b2fbdf"
      },
      "outputs": [
        {
          "output_type": "display_data",
          "data": {
            "text/plain": [
              "<Figure size 1080x432 with 1 Axes>"
            ],
            "image/png": "[encoded data removed]"
          },
          "metadata": {
            "needs_background": "light"
          }
        }
      ],
      "source": [
        "# Initialize lists to store mode values and percentages\n",
        "mode_values = []\n",
        "mode_percents = []\n",
        "\n",
        "# Iterate through each categorical feature and find the mode and its percentage\n",
        "for feature in cat_features:\n",
        "    mode_value = df[feature].mode()[0]\n",
        "    mode_percent = (df[feature] == mode_value).mean() * 100\n",
        "    mode_values.append(mode_value)\n",
        "    mode_percents.append(mode_percent)\n",
        "\n",
        "# Create horizontal bar chart\n",
        "fig, ax = plt.subplots(figsize=(15,6))\n",
        "y_pos = range(len(cat_features))\n",
        "ax.barh(y_pos, mode_percents, align='center')\n",
        "ax.set_yticks(y_pos)\n",
        "ax.set_yticklabels(cat_features)\n",
        "ax.set_xlabel('Percentage of Data')\n",
        "ax.set_title('Mode Value and Percentage for Categorical Features')\n",
        "plt.tight_layout()\n",
        "plt.show()"
      ]
    },
    {
      "cell_type": "markdown",
      "metadata": {
        "id": "rj7xnk-CRZVm"
      },
      "source": [
        "**Analysis of Numerical Data**"
      ]
    },
    {
      "cell_type": "code",
      "execution_count": null,
      "metadata": {
        "colab": {
          "base_uri": "https://localhost:8080/",
          "height": 1000
        },
        "id": "TVAfl3S3LGX4",
        "outputId": "4b36ca67-f57f-436a-efc2-50cab4725e56"
      },
      "outputs": [
        {
          "output_type": "display_data",
          "data": {
            "text/plain": [
              "<Figure size 1800x1440 with 1 Axes>"
            ],
            "image/png": "[encoded data removed]"
          },
          "metadata": {
            "needs_background": "light"
          }
        }
      ],
      "source": [
        "# count distribution of 'age' column\n",
        "age_counts = df['age'].value_counts()\n",
        "\n",
        "# plot bar graph with larger figure size\n",
        "plt.figure(figsize=(25, 20))   # set the figure size to 10x6 inches\n",
        "age_counts.plot(kind='bar')\n",
        "\n",
        "# set title and axis labels\n",
        "plt.title('Age Count Distribution')\n",
        "plt.xlabel('Age')\n",
        "plt.ylabel('Count')\n",
        "\n",
        "plt.show()"
      ]
    },
    {
      "cell_type": "code",
      "execution_count": null,
      "metadata": {
        "id": "HVIlyxfR37Iz",
        "colab": {
          "base_uri": "https://localhost:8080/",
          "height": 443
        },
        "outputId": "5e7d1d1e-ed94-4f4c-d11c-9ba43865fea0"
      },
      "outputs": [
        {
          "output_type": "display_data",
          "data": {
            "text/plain": [
              "<Figure size 2160x576 with 2 Axes>"
            ],
            "image/png": "[encoded data removed]"
          },
          "metadata": {
            "needs_background": "light"
          }
        }
      ],
      "source": [
        "# Sort the dataframe by age in ascending order\n",
        "df = df.sort_values('age')\n",
        "\n",
        "# Create a figure with two subplots\n",
        "fig, axs = plt.subplots(1, 2, figsize=(30, 8))\n",
        "\n",
        "# Plot the data as a scatter plot in the first subplot\n",
        "axs[0].scatter(df['age'], df['job'])\n",
        "axs[0].set_xlabel(\"Age\")\n",
        "axs[0].set_ylabel(\"Job\")\n",
        "axs[0].set_title(\"Age and Job Distribution (Scatter Plot)\")\n",
        "\n",
        "# Plot the data as a bar plot in the second subplot\n",
        "axs[1].bar(df['job'], df['age'])\n",
        "axs[1].set_xlabel(\"Job\")\n",
        "axs[1].set_ylabel(\"Age\")\n",
        "axs[1].set_title(\"Age and Job Distribution (Bar Plot)\")\n",
        "\n",
        "# Show the figure\n",
        "plt.show()"
      ]
    },
    {
      "cell_type": "code",
      "source": [
        " #Get numeric columns in the dataset\n",
        "numeric_cols = df.select_dtypes(include=[np.number]).columns\n",
        "\n",
        "# Create subplots\n",
        "fig, axes = plt.subplots(nrows=len(numeric_cols), ncols=1, figsize=(10, 30))\n",
        "\n",
        "# Iterate over each numeric column and plot its distribution\n",
        "for i, col in enumerate(numeric_cols):\n",
        "    sns.distplot(df[col], ax=axes[i])\n",
        "    axes[i].set_title(\"Skewness: {:.2f} | Column: {}\".format(df[col].skew(), col))\n",
        "\n",
        "plt.tight_layout()\n",
        "plt.show()"
      ],
      "metadata": {
        "colab": {
          "base_uri": "https://localhost:8080/",
          "height": 1000
        },
        "id": "Z66GShxqlkOS",
        "outputId": "c41d57c0-a122-4f8b-d64c-16384bbce953"
      },
      "execution_count": null,
      "outputs": [
        {
          "output_type": "stream",
          "name": "stderr",
          "text": [
            "<ipython-input-32-a447e39fab14>:9: UserWarning: \n",
            "\n",
            "`distplot` is a deprecated function and will be removed in seaborn v0.14.0.\n",
            "\n",
            "Please adapt your code to use either `displot` (a figure-level function with\n",
            "similar flexibility) or `histplot` (an axes-level function for histograms).\n",
            "\n",
            "For a guide to updating your code to use the new functions, please see\n",
            "https://gist.github.com/mwaskom/de44147ed2974457ad6372750bbe5751\n",
            "\n",
            "  sns.distplot(df[col], ax=axes[i])\n",
            "<ipython-input-32-a447e39fab14>:9: UserWarning: \n",
            "\n",
            "`distplot` is a deprecated function and will be removed in seaborn v0.14.0.\n",
            "\n",
            "Please adapt your code to use either `displot` (a figure-level function with\n",
            "similar flexibility) or `histplot` (an axes-level function for histograms).\n",
            "\n",
            "For a guide to updating your code to use the new functions, please see\n",
            "https://gist.github.com/mwaskom/de44147ed2974457ad6372750bbe5751\n",
            "\n",
            "  sns.distplot(df[col], ax=axes[i])\n",
            "<ipython-input-32-a447e39fab14>:9: UserWarning: \n",
            "\n",
            "`distplot` is a deprecated function and will be removed in seaborn v0.14.0.\n",
            "\n",
            "Please adapt your code to use either `displot` (a figure-level function with\n",
            "similar flexibility) or `histplot` (an axes-level function for histograms).\n",
            "\n",
            "For a guide to updating your code to use the new functions, please see\n",
            "https://gist.github.com/mwaskom/de44147ed2974457ad6372750bbe5751\n",
            "\n",
            "  sns.distplot(df[col], ax=axes[i])\n",
            "<ipython-input-32-a447e39fab14>:9: UserWarning: \n",
            "\n",
            "`distplot` is a deprecated function and will be removed in seaborn v0.14.0.\n",
            "\n",
            "Please adapt your code to use either `displot` (a figure-level function with\n",
            "similar flexibility) or `histplot` (an axes-level function for histograms).\n",
            "\n",
            "For a guide to updating your code to use the new functions, please see\n",
            "https://gist.github.com/mwaskom/de44147ed2974457ad6372750bbe5751\n",
            "\n",
            "  sns.distplot(df[col], ax=axes[i])\n",
            "<ipython-input-32-a447e39fab14>:9: UserWarning: \n",
            "\n",
            "`distplot` is a deprecated function and will be removed in seaborn v0.14.0.\n",
            "\n",
            "Please adapt your code to use either `displot` (a figure-level function with\n",
            "similar flexibility) or `histplot` (an axes-level function for histograms).\n",
            "\n",
            "For a guide to updating your code to use the new functions, please see\n",
            "https://gist.github.com/mwaskom/de44147ed2974457ad6372750bbe5751\n",
            "\n",
            "  sns.distplot(df[col], ax=axes[i])\n",
            "<ipython-input-32-a447e39fab14>:9: UserWarning: \n",
            "\n",
            "`distplot` is a deprecated function and will be removed in seaborn v0.14.0.\n",
            "\n",
            "Please adapt your code to use either `displot` (a figure-level function with\n",
            "similar flexibility) or `histplot` (an axes-level function for histograms).\n",
            "\n",
            "For a guide to updating your code to use the new functions, please see\n",
            "https://gist.github.com/mwaskom/de44147ed2974457ad6372750bbe5751\n",
            "\n",
            "  sns.distplot(df[col], ax=axes[i])\n",
            "<ipython-input-32-a447e39fab14>:9: UserWarning: \n",
            "\n",
            "`distplot` is a deprecated function and will be removed in seaborn v0.14.0.\n",
            "\n",
            "Please adapt your code to use either `displot` (a figure-level function with\n",
            "similar flexibility) or `histplot` (an axes-level function for histograms).\n",
            "\n",
            "For a guide to updating your code to use the new functions, please see\n",
            "https://gist.github.com/mwaskom/de44147ed2974457ad6372750bbe5751\n",
            "\n",
            "  sns.distplot(df[col], ax=axes[i])\n",
            "<ipython-input-32-a447e39fab14>:9: UserWarning: \n",
            "\n",
            "`distplot` is a deprecated function and will be removed in seaborn v0.14.0.\n",
            "\n",
            "Please adapt your code to use either `displot` (a figure-level function with\n",
            "similar flexibility) or `histplot` (an axes-level function for histograms).\n",
            "\n",
            "For a guide to updating your code to use the new functions, please see\n",
            "https://gist.github.com/mwaskom/de44147ed2974457ad6372750bbe5751\n",
            "\n",
            "  sns.distplot(df[col], ax=axes[i])\n",
            "<ipython-input-32-a447e39fab14>:9: UserWarning: \n",
            "\n",
            "`distplot` is a deprecated function and will be removed in seaborn v0.14.0.\n",
            "\n",
            "Please adapt your code to use either `displot` (a figure-level function with\n",
            "similar flexibility) or `histplot` (an axes-level function for histograms).\n",
            "\n",
            "For a guide to updating your code to use the new functions, please see\n",
            "https://gist.github.com/mwaskom/de44147ed2974457ad6372750bbe5751\n",
            "\n",
            "  sns.distplot(df[col], ax=axes[i])\n",
            "<ipython-input-32-a447e39fab14>:9: UserWarning: \n",
            "\n",
            "`distplot` is a deprecated function and will be removed in seaborn v0.14.0.\n",
            "\n",
            "Please adapt your code to use either `displot` (a figure-level function with\n",
            "similar flexibility) or `histplot` (an axes-level function for histograms).\n",
            "\n",
            "For a guide to updating your code to use the new functions, please see\n",
            "https://gist.github.com/mwaskom/de44147ed2974457ad6372750bbe5751\n",
            "\n",
            "  sns.distplot(df[col], ax=axes[i])\n",
            "<ipython-input-32-a447e39fab14>:9: UserWarning: \n",
            "\n",
            "`distplot` is a deprecated function and will be removed in seaborn v0.14.0.\n",
            "\n",
            "Please adapt your code to use either `displot` (a figure-level function with\n",
            "similar flexibility) or `histplot` (an axes-level function for histograms).\n",
            "\n",
            "For a guide to updating your code to use the new functions, please see\n",
            "https://gist.github.com/mwaskom/de44147ed2974457ad6372750bbe5751\n",
            "\n",
            "  sns.distplot(df[col], ax=axes[i])\n",
            "<ipython-input-32-a447e39fab14>:9: UserWarning: \n",
            "\n",
            "`distplot` is a deprecated function and will be removed in seaborn v0.14.0.\n",
            "\n",
            "Please adapt your code to use either `displot` (a figure-level function with\n",
            "similar flexibility) or `histplot` (an axes-level function for histograms).\n",
            "\n",
            "For a guide to updating your code to use the new functions, please see\n",
            "https://gist.github.com/mwaskom/de44147ed2974457ad6372750bbe5751\n",
            "\n",
            "  sns.distplot(df[col], ax=axes[i])\n",
            "<ipython-input-32-a447e39fab14>:9: UserWarning: \n",
            "\n",
            "`distplot` is a deprecated function and will be removed in seaborn v0.14.0.\n",
            "\n",
            "Please adapt your code to use either `displot` (a figure-level function with\n",
            "similar flexibility) or `histplot` (an axes-level function for histograms).\n",
            "\n",
            "For a guide to updating your code to use the new functions, please see\n",
            "https://gist.github.com/mwaskom/de44147ed2974457ad6372750bbe5751\n",
            "\n",
            "  sns.distplot(df[col], ax=axes[i])\n",
            "<ipython-input-32-a447e39fab14>:9: UserWarning: \n",
            "\n",
            "`distplot` is a deprecated function and will be removed in seaborn v0.14.0.\n",
            "\n",
            "Please adapt your code to use either `displot` (a figure-level function with\n",
            "similar flexibility) or `histplot` (an axes-level function for histograms).\n",
            "\n",
            "For a guide to updating your code to use the new functions, please see\n",
            "https://gist.github.com/mwaskom/de44147ed2974457ad6372750bbe5751\n",
            "\n",
            "  sns.distplot(df[col], ax=axes[i])\n",
            "<ipython-input-32-a447e39fab14>:9: UserWarning: \n",
            "\n",
            "`distplot` is a deprecated function and will be removed in seaborn v0.14.0.\n",
            "\n",
            "Please adapt your code to use either `displot` (a figure-level function with\n",
            "similar flexibility) or `histplot` (an axes-level function for histograms).\n",
            "\n",
            "For a guide to updating your code to use the new functions, please see\n",
            "https://gist.github.com/mwaskom/de44147ed2974457ad6372750bbe5751\n",
            "\n",
            "  sns.distplot(df[col], ax=axes[i])\n",
            "<ipython-input-32-a447e39fab14>:9: UserWarning: \n",
            "\n",
            "`distplot` is a deprecated function and will be removed in seaborn v0.14.0.\n",
            "\n",
            "Please adapt your code to use either `displot` (a figure-level function with\n",
            "similar flexibility) or `histplot` (an axes-level function for histograms).\n",
            "\n",
            "For a guide to updating your code to use the new functions, please see\n",
            "https://gist.github.com/mwaskom/de44147ed2974457ad6372750bbe5751\n",
            "\n",
            "  sns.distplot(df[col], ax=axes[i])\n",
            "<ipython-input-32-a447e39fab14>:9: UserWarning: \n",
            "\n",
            "`distplot` is a deprecated function and will be removed in seaborn v0.14.0.\n",
            "\n",
            "Please adapt your code to use either `displot` (a figure-level function with\n",
            "similar flexibility) or `histplot` (an axes-level function for histograms).\n",
            "\n",
            "For a guide to updating your code to use the new functions, please see\n",
            "https://gist.github.com/mwaskom/de44147ed2974457ad6372750bbe5751\n",
            "\n",
            "  sns.distplot(df[col], ax=axes[i])\n"
          ]
        },
        {
          "output_type": "display_data",
          "data": {
            "text/plain": [
              "<Figure size 720x2160 with 17 Axes>"
            ],
            "image/png": "[encoded data removed]"
          },
          "metadata": {
            "needs_background": "light"
          }
        }
      ]
    },
    {
      "cell_type": "markdown",
      "source": [
        "# Defining Random Forest Algorithm"
      ],
      "metadata": {
        "id": "_Ni-Ey2MoZQe"
      }
    },
    {
      "cell_type": "code",
      "source": [
        "class RandomForestClassifier:\n",
        "    def __init__(self, n_estimators=100, max_depth=None, min_samples_split=2):\n",
        "        self.n_estimators = n_estimators\n",
        "        self.max_depth = max_depth\n",
        "        self.min_samples_split = min_samples_split\n",
        "        self.trees = []\n",
        "\n",
        "    def fit(self, X, y):\n",
        "        n_samples, n_features = X.shape\n",
        "        for _ in range(self.n_estimators):\n",
        "            indices = np.random.choice(n_samples, n_samples, replace=True)\n",
        "            tree = DecisionTreeClassifier(\n",
        "                max_depth=self.max_depth,\n",
        "                min_samples_split=self.min_samples_split\n",
        "            )\n",
        "            tree.fit(X[indices], y[indices])\n",
        "            self.trees.append(tree)\n",
        "\n",
        "    def predict(self, X):\n",
        "      predictions = np.zeros((len(X), len(self.trees)))\n",
        "      for i, tree in enumerate(self.trees):\n",
        "          predictions[:, i] = tree.predict(X)\n",
        "      return np.apply_along_axis(lambda x: np.argmax(np.bincount(x.astype(int))), axis=1, arr=predictions)\n",
        "\n",
        "\n",
        "    \n",
        "class DecisionTreeClassifier:\n",
        "    def __init__(self, max_depth=None, min_samples_split=2):\n",
        "        self.max_depth = max_depth\n",
        "        self.min_samples_split = min_samples_split\n",
        "        self.feature_indices = None\n",
        "        self.thresholds = None\n",
        "        self.left = None\n",
        "        self.right = None\n",
        "        self.label = None\n",
        "\n",
        "    def fit(self, X, y):\n",
        "        n_samples, n_features = X.shape\n",
        "\n",
        "        if self.max_depth is None:\n",
        "            self.max_depth = n_features\n",
        "\n",
        "        if self.min_samples_split is None:\n",
        "            self.min_samples_split = 2\n",
        "\n",
        "        if n_samples < self.min_samples_split or self.max_depth == 0 or np.unique(y).shape[0] == 1:\n",
        "            self.label = np.bincount(y).argmax()\n",
        "            return\n",
        "\n",
        "        self.feature_indices = np.random.choice(n_features, int(np.sqrt(n_features)), replace=False)\n",
        "        best_feature_index, best_threshold = self.find_best_split(X, y)\n",
        "\n",
        "        if best_feature_index is None or best_threshold is None:\n",
        "            self.label = np.bincount(y).argmax()\n",
        "            return\n",
        "\n",
        "        self.thresholds = best_threshold\n",
        "\n",
        "        left_indices = X[:, best_feature_index] < best_threshold\n",
        "        right_indices = X[:, best_feature_index] >= best_threshold\n",
        "\n",
        "        self.left = DecisionTreeClassifier(\n",
        "            max_depth=self.max_depth - 1,\n",
        "            min_samples_split=self.min_samples_split\n",
        "        )\n",
        "        self.left.fit(X[left_indices], y[left_indices])\n",
        "\n",
        "        self.right = DecisionTreeClassifier(\n",
        "            max_depth=self.max_depth - 1,\n",
        "            min_samples_split=self.min_samples_split\n",
        "        )\n",
        "        self.right.fit(X[right_indices], y[right_indices])\n",
        "\n",
        "    def find_best_split(self, X, y):\n",
        "        best_feature_index, best_threshold, best_gini = None, None, 1\n",
        "\n",
        "        for feature_index in self.feature_indices:\n",
        "            thresholds = np.unique(X[:, feature_index])\n",
        "\n",
        "            for threshold in thresholds:\n",
        "                left_indices = X[:, feature_index] < threshold\n",
        "                right_indices = X[:, feature_index] >= threshold\n",
        "\n",
        "                if left_indices.sum() < self.min_samples_split or right_indices.sum() < self.min_samples_split:\n",
        "                    continue\n",
        "\n",
        "                left_gini = self.gini(y[left_indices])\n",
        "                right_gini = self.gini(y[right_indices])\n",
        "                gini = (left_gini * left_indices.sum() + right_gini * right_indices.sum()) / len(y)\n",
        "\n",
        "                if gini < best_gini:\n",
        "                    best_threshold = threshold\n",
        "                    best_gini = gini\n",
        "                    return best_feature_index, best_threshold\n",
        "\n",
        "    def gini(self, y):\n",
        "      _, counts = np.unique(y, return_counts=True)\n",
        "      proportions = counts / len(y)\n",
        "      return 1 - np.sum(proportions ** 2)\n",
        "\n",
        "    def predict(self, X):\n",
        "       if self.label is not None:\n",
        "           return np.ones(len(X)) * self.label\n",
        "\n",
        "       left_indices = X[:, self.feature_indices] < self.thresholds\n",
        "       right_indices = X[:, self.feature_indices] >= self.thresholds\n",
        "\n",
        "       left_predictions = self.left.predict(X[left_indices])\n",
        "       right_predictions = self.right.predict(X[right_indices])\n",
        "\n",
        "       predictions = np.ones(len(X)) * self.label\n",
        "       predictions[left_indices] = left_predictions\n",
        "       predictions[right_indices] = right_predictions\n",
        "\n",
        "       return predictions\n",
        "\n",
        "\n"
      ],
      "metadata": {
        "id": "bq35-vSE_PlC"
      },
      "execution_count": null,
      "outputs": []
    },
    {
      "cell_type": "markdown",
      "source": [
        "## Train Test Split "
      ],
      "metadata": {
        "id": "h2H4UDgCop8T"
      }
    },
    {
      "cell_type": "code",
      "source": [
        "# Define train-test-split function\n",
        "def train_test_split(X, y, test_size=0.2, random_state=None):\n",
        "    if random_state:\n",
        "        np.random.seed(random_state)\n",
        "    \n",
        "    n_samples = X.shape[0]\n",
        "    n_test = int(test_size * n_samples)\n",
        "    \n",
        "    shuffled_indices = np.random.permutation(n_samples)\n",
        "    test_indices = shuffled_indices[:n_test]\n",
        "    train_indices = shuffled_indices[n_test:]\n",
        "    \n",
        "    X_train, y_train = X[train_indices], y[train_indices]\n",
        "    X_test, y_test = X[test_indices], y[test_indices]\n",
        "    \n",
        "    return X_train, X_test, y_train, y_test"
      ],
      "metadata": {
        "id": "1BfFrcjE_dp9"
      },
      "execution_count": null,
      "outputs": []
    },
    {
      "cell_type": "code",
      "source": [
        "# Define the X and y variables\n",
        "X = df.drop(\"y\", axis=1)\n",
        "y = df[\"y\"]"
      ],
      "metadata": {
        "id": "cwN2nhAk_dtO"
      },
      "execution_count": null,
      "outputs": []
    },
    {
      "cell_type": "code",
      "source": [
        "y.shape"
      ],
      "metadata": {
        "colab": {
          "base_uri": "https://localhost:8080/"
        },
        "id": "nHA_yOIP_dwU",
        "outputId": "3a2b554f-a473-46d9-98bb-ac832195040b"
      },
      "execution_count": null,
      "outputs": [
        {
          "output_type": "execute_result",
          "data": {
            "text/plain": [
              "(37901,)"
            ]
          },
          "metadata": {},
          "execution_count": 72
        }
      ]
    },
    {
      "cell_type": "code",
      "source": [
        "X=np.array(X) # converting X into numpy array\n",
        "y=np.array(y) # converting y into numpy array"
      ],
      "metadata": {
        "id": "lijJ7ZQW_7Nv"
      },
      "execution_count": null,
      "outputs": []
    },
    {
      "cell_type": "code",
      "source": [
        "# Split data into training and testing sets\n",
        "X_train, X_test, y_train, y_test = train_test_split(X, y, test_size=0.3, random_state=42)\n"
      ],
      "metadata": {
        "id": "O-HPxCjOAA04"
      },
      "execution_count": null,
      "outputs": []
    },
    {
      "cell_type": "code",
      "source": [
        "rf = RandomForestClassifier()\n",
        "rf.fit(X_train, y_train)\n",
        "y_pred = rf.predict(X_test).astype(int)\n"
      ],
      "metadata": {
        "id": "7KBk2xlIACoz"
      },
      "execution_count": null,
      "outputs": []
    },
    {
      "cell_type": "markdown",
      "source": [
        "## Checking Accuracy"
      ],
      "metadata": {
        "id": "pc51NFGPo3Bc"
      }
    },
    {
      "cell_type": "code",
      "source": [
        "# Training accuracy\n",
        "y_train_pred = rf.predict(X_train).astype(int)\n",
        "train_acc = sum(y_train_pred == y_train) / len(y_train)\n",
        "print(f'Training accuracy: {train_acc:.4f}')\n",
        "\n",
        "# Testing accuracy\n",
        "y_test_pred = rf.predict(X_test).astype(int)\n",
        "test_acc = sum(y_test_pred == y_test) / len(y_test)\n",
        "print(f'Testing accuracy: {test_acc:.4f}')"
      ],
      "metadata": {
        "colab": {
          "base_uri": "https://localhost:8080/"
        },
        "id": "pWG-J20KkwRg",
        "outputId": "805050dc-a3ed-4239-8da4-8b86d0de0d1f"
      },
      "execution_count": null,
      "outputs": [
        {
          "output_type": "stream",
          "name": "stdout",
          "text": [
            "Training accuracy: 0.9326\n",
            "Testing accuracy: 0.9308\n"
          ]
        }
      ]
    },
    {
      "cell_type": "code",
      "source": [
        "tp = 0\n",
        "tn = 0\n",
        "fp = 0\n",
        "fn = 0\n",
        "\n",
        "for i in range(len(y_pred)):\n",
        "    if y_pred[i] == 1 and y_test[i] == 1:\n",
        "        tp += 1\n",
        "    elif y_pred[i] == 0 and y_test[i] == 0:\n",
        "        tn += 1\n",
        "    elif y_pred[i] == 1 and y_test[i] == 0:\n",
        "        fp += 1\n",
        "    elif y_pred[i] == 0 and y_test[i] == 1:\n",
        "        fn += 1\n",
        "\n",
        "# Calculate accuracy, precision, recall, and f1 score\n",
        "accuracy = (tp + tn) / (tp + tn + fp + fn)\n",
        "precision = tp / (tp + fp) if (tp + fp) > 0 else 0\n",
        "recall = tp / (tp + fn) if (tp + fn) > 0 else 0\n",
        "f1_score = 2 * precision * recall / (precision + recall) if (precision + recall) > 0 else 0\n",
        "\n",
        "# Print the results\n",
        "print(\"True positives: {}\".format(tp))\n",
        "print(\"True negatives: {}\".format(tn))\n",
        "print(\"False positives: {}\".format(fp))\n",
        "print(\"False negatives: {}\".format(fn))\n",
        "print(\"Accuracy: {:.2f}\".format(accuracy))\n",
        "print(\"Precision: {:.2f}\".format(precision))\n",
        "print(\"Recall: {:.2f}\".format(recall))\n",
        "print(\"F1 score: {:.2f}\".format(f1_score))\n"
      ],
      "metadata": {
        "colab": {
          "base_uri": "https://localhost:8080/"
        },
        "id": "V2zhdg9JACs_",
        "outputId": "9f17e5c2-de02-49d8-f68a-587b035dcb74"
      },
      "execution_count": null,
      "outputs": [
        {
          "output_type": "stream",
          "name": "stdout",
          "text": [
            "True positives: 0\n",
            "True negatives: 10583\n",
            "False positives: 0\n",
            "False negatives: 787\n",
            "Accuracy: 0.93\n",
            "Precision: 0.00\n",
            "Recall: 0.00\n",
            "F1 score: 0.00\n"
          ]
        }
      ]
    },
    {
      "cell_type": "markdown",
      "source": [
        "## **Hyper-Parameter Tuning**"
      ],
      "metadata": {
        "id": "I9yIXYOuo_Jz"
      }
    },
    {
      "cell_type": "code",
      "source": [
        "def cross_validate(model, X, y, k):\n",
        "    indices = np.random.permutation(X.shape[0])\n",
        "    fold_size = int(X.shape[0] / k)\n",
        "    scores = []\n",
        "    for i in range(k):\n",
        "        test_indices = indices[i*fold_size:(i+1)*fold_size]\n",
        "        train_indices = np.concatenate((indices[:i*fold_size], indices[(i+1)*fold_size:]))\n",
        "        X_train, y_train, X_test, y_test = X[train_indices], y[train_indices], X[test_indices], y[test_indices]\n",
        "        model.fit(X_train, y_train)\n",
        "        score = evaluate(model, X_test, y_test)\n",
        "        scores.append(score)\n",
        "    return np.mean(scores)\n"
      ],
      "metadata": {
        "id": "hNUhwEmGA9-A"
      },
      "execution_count": null,
      "outputs": []
    },
    {
      "cell_type": "code",
      "source": [
        "def accuracy_score(y_true, y_pred):\n",
        "    num_correct = 0\n",
        "    for i in range(len(y_true)):\n",
        "        if y_true[i] == y_pred[i]:\n",
        "            num_correct += 1\n",
        "    return num_correct / len(y_true)\n"
      ],
      "metadata": {
        "id": "N0sh_s_4A-Bu"
      },
      "execution_count": null,
      "outputs": []
    },
    {
      "cell_type": "code",
      "source": [
        "def evaluate(model, X, y):\n",
        "    predictions = model.predict(X)\n",
        "    accuracy = accuracy_score(y, predictions)\n",
        "    return accuracy\n"
      ],
      "metadata": {
        "id": "1s6UjpVEA-E9"
      },
      "execution_count": null,
      "outputs": []
    },
    {
      "cell_type": "code",
      "source": [
        "import numpy as np\n",
        "\n",
        "# Define the hyperparameters and their possible values\n",
        "n_trees = [10, 50, 100]\n",
        "max_depth = [None, 10, 20]\n",
        "min_samples_split = [2, 5]\n",
        "min_samples_leaf = [1, 2]\n",
        "max_features = ['sqrt', 'log2']\n",
        "\n",
        "# Set the number of iterations for the randomized search\n",
        "n_iter = 50\n",
        "\n",
        "# Initialize the best score and parameters\n",
        "best_score = 0\n",
        "best_params = None\n",
        "\n",
        "# Perform the randomized search\n",
        "for i in range(n_iter):\n",
        "    # Randomly select values for each hyperparameter\n",
        "    trees = np.random.choice(n_trees)\n",
        "    depth = np.random.choice(max_depth)\n",
        "    split = np.random.choice(min_samples_split)\n",
        "    leaf = np.random.choice(min_samples_leaf)\n",
        "    feature = np.random.choice(max_features)\n",
        "    \n",
        "    # Initialize the model with the randomly selected hyperparameters\n",
        "    model = RandomForestClassifier(n_estimators=trees, max_depth=depth, min_samples_split=split)\n",
        "    \n",
        "    # Perform cross-validation and get the mean score\n",
        "    score = cross_validate(model, X, y, k=5)\n",
        "    \n",
        "    # Check if this score is better than the previous best score\n",
        "    if score > best_score:\n",
        "        best_score = score\n",
        "        best_params = {'n_trees': trees, 'max_depth': depth, 'min_samples_split': split,\n",
        "                       'min_samples_leaf': leaf, 'max_features': feature}\n",
        "\n",
        "# Print the best parameters and score\n",
        "print(\"Best parameters: \", best_params)\n",
        "print(\"Best score: \", best_score)\n"
      ],
      "metadata": {
        "colab": {
          "base_uri": "https://localhost:8080/"
        },
        "id": "SyeRvmLuBTTT",
        "outputId": "5de4ecb1-a287-40ec-bd5c-fbb67270ca34"
      },
      "execution_count": null,
      "outputs": [
        {
          "output_type": "stream",
          "name": "stdout",
          "text": [
            "Best parameters:  {'n_trees': 10, 'max_depth': None, 'min_samples_split': 5, 'min_samples_leaf': 2, 'max_features': 'sqrt'}\n",
            "Best score:  0.932084432717678\n"
          ]
        }
      ]
    },
    {
      "cell_type": "markdown",
      "source": [
        "## **Checking the time to predict the test data**"
      ],
      "metadata": {
        "id": "2qrhxZK8pQwu"
      }
    },
    {
      "cell_type": "code",
      "source": [
        "import time\n",
        "# record start time\n",
        "start_time = time.time()"
      ],
      "metadata": {
        "id": "UPVSau9XI6VC"
      },
      "execution_count": null,
      "outputs": []
    },
    {
      "cell_type": "code",
      "source": [
        "\n",
        "# Make predictions on the testing data\n",
        "y_pred = rf.predict(X_test)"
      ],
      "metadata": {
        "id": "SkHt5_mvI6cN"
      },
      "execution_count": null,
      "outputs": []
    },
    {
      "cell_type": "code",
      "source": [
        "# record end time\n",
        "end_time = time.time()\n",
        "\n",
        "# calculate the time taken to fit the model\n",
        "time_taken = end_time - start_time\n",
        "\n",
        "# print the time taken\n",
        "print(\"Time taken to run the code: {:.2f} seconds\".format(time_taken))"
      ],
      "metadata": {
        "colab": {
          "base_uri": "https://localhost:8080/"
        },
        "id": "wYJ_OkEpI6gf",
        "outputId": "259fb4e0-405d-4162-dbdd-cb2f9d0907eb"
      },
      "execution_count": null,
      "outputs": [
        {
          "output_type": "stream",
          "name": "stdout",
          "text": [
            "Time taken to run the code: 0.12 seconds\n"
          ]
        }
      ]
    },
    {
      "cell_type": "markdown",
      "source": [
        "### **SMOTE TECHNIQUE**"
      ],
      "metadata": {
        "id": "JRyeiu8Vqsby"
      }
    },
    {
      "cell_type": "code",
      "source": [
        "from imblearn.over_sampling import SMOTE\n",
        "\n",
        "\n",
        "# Instantiate SMOTE with the desired parameters\n",
        "smote = SMOTE(sampling_strategy='auto', k_neighbors=5, random_state=42)\n",
        "\n",
        "# Resample the training data using SMOTE\n",
        "X_train_resampled, y_train_resampled = smote.fit_resample(X_train, y_train)\n",
        "\n",
        "# Train the Random Forest model on the resampled training data\n",
        "rfsm = RandomForestClassifier()\n",
        "rfsm.fit(X_train_resampled, y_train_resampled)\n",
        "\n",
        "# Predict on the testing data\n",
        "y_pred = rfsm.predict(X_test)\n",
        "\n",
        "# Calculate the accuracy of the model\n",
        "acc = accuracy_score(y_test, y_pred)\n",
        "print(f'Accuracy of the Random Forest model: {acc:.4f}')"
      ],
      "metadata": {
        "colab": {
          "base_uri": "https://localhost:8080/"
        },
        "id": "X2UkrVGHpipZ",
        "outputId": "e814860f-61cb-4793-d3ed-283e2371065d"
      },
      "execution_count": null,
      "outputs": [
        {
          "output_type": "stream",
          "name": "stdout",
          "text": [
            "Accuracy of the Random Forest model: 0.0692\n"
          ]
        }
      ]
    },
    {
      "cell_type": "code",
      "source": [
        "tp = 0\n",
        "tn = 0\n",
        "fp = 0\n",
        "fn = 0\n",
        "\n",
        "for i in range(len(y_pred)):\n",
        "    if y_pred[i] == 1 and y_test[i] == 1:\n",
        "        tp += 1\n",
        "    elif y_pred[i] == 0 and y_test[i] == 0:\n",
        "        tn += 1\n",
        "    elif y_pred[i] == 1 and y_test[i] == 0:\n",
        "        fp += 1\n",
        "    elif y_pred[i] == 0 and y_test[i] == 1:\n",
        "        fn += 1\n",
        "\n",
        "# Calculate accuracy, precision, recall, and f1 score\n",
        "accuracy = (tp + tn) / (tp + tn + fp + fn)\n",
        "precision = tp / (tp + fp) if (tp + fp) > 0 else 0\n",
        "recall = tp / (tp + fn) if (tp + fn) > 0 else 0\n",
        "f1_score = 2 * precision * recall / (precision + recall) if (precision + recall) > 0 else 0\n",
        "\n",
        "# Print the results\n",
        "print(\"True positives: {}\".format(tp))\n",
        "print(\"True negatives: {}\".format(tn))\n",
        "print(\"False positives: {}\".format(fp))\n",
        "print(\"False negatives: {}\".format(fn))\n",
        "print(\"Accuracy: {:.2f}\".format(accuracy))\n",
        "print(\"Precision: {:.2f}\".format(precision))\n",
        "print(\"Recall: {:.2f}\".format(recall))\n",
        "print(\"F1 score: {:.2f}\".format(f1_score))"
      ],
      "metadata": {
        "colab": {
          "base_uri": "https://localhost:8080/"
        },
        "id": "smvPe-xUpiuC",
        "outputId": "6f6c9813-c304-4bbe-b471-0d957e5416ff"
      },
      "execution_count": null,
      "outputs": [
        {
          "output_type": "stream",
          "name": "stdout",
          "text": [
            "True positives: 787\n",
            "True negatives: 0\n",
            "False positives: 10583\n",
            "False negatives: 0\n",
            "Accuracy: 0.07\n",
            "Precision: 0.07\n",
            "Recall: 1.00\n",
            "F1 score: 0.13\n"
          ]
        }
      ]
    },
    {
      "cell_type": "markdown",
      "source": [
        "### **Pipeline using sklearn**"
      ],
      "metadata": {
        "id": "f0m0epg0FjxH"
      }
    },
    {
      "cell_type": "code",
      "source": [
        "from sklearn.pipeline import Pipeline"
      ],
      "metadata": {
        "id": "ikgIjxjhsaKM"
      },
      "execution_count": null,
      "outputs": []
    },
    {
      "cell_type": "code",
      "source": [
        "# Define the preprocessing steps for numeric and categorical columns\n",
        "numeric_transformer = Pipeline(steps=\n",
        "    ('missing_value_handling', num_missing))\n",
        "\n",
        "categorical_transformer = Pipeline(steps=[\n",
        "    ('label_encoding', LabelEncoder())\n",
        "])\n",
        "\n",
        "# Define the preprocessing pipeline with feature scaling and label encoding\n",
        "preprocessor = ColumnTransformer(transformers=[  \n",
        "    ('num', numeric_transformer, numeric_features),\n",
        "    ('cat', categorical_transformer, categorical_features)\n",
        "])\n",
        "\n",
        "# Define the KNN classifier pipeline\n",
        "rfc_pipeline = Pipeline(steps=[\n",
        "    ('preprocessor', preprocessor),\n",
        "    ('rfc', RandomForestClassifier())\n",
        "])\n",
        "# Print the results\n",
        "\n",
        "print(\"Accuracy: {:.2f}\".format(accuracy))\n",
        "print(\"Precision: {:.2f}\".format(precision))\n",
        "print(\"Recall: {:.2f}\".format(recall))\n",
        "print(\"F1 score: {:.2f}\".format(f1_score))\n"
      ],
      "metadata": {
        "colab": {
          "base_uri": "https://localhost:8080/"
        },
        "id": "OPmIU_PiFII0",
        "outputId": "42ac4def-dddb-4deb-fbed-d1b7e64c4efd"
      },
      "execution_count": null,
      "outputs": [
        {
          "output_type": "stream",
          "name": "stdout",
          "text": [
            "Accuracy: 0.07\n",
            "Precision: 0.07\n",
            "Recall: 1.00\n",
            "F1 score: 0.13\n"
          ]
        }
      ]
    },
    {
      "cell_type": "code",
      "source": [],
      "metadata": {
        "id": "cUMO9LgkFINu"
      },
      "execution_count": null,
      "outputs": []
    },
    {
      "cell_type": "code",
      "source": [],
      "metadata": {
        "id": "wMILRGCfFIW5"
      },
      "execution_count": null,
      "outputs": []
    }
  ],
  "metadata": {
    "colab": {
      "provenance": []
    },
    "kernelspec": {
      "display_name": "Python 3",
      "name": "python3"
    },
    "language_info": {
      "name": "python"
    },
    "accelerator": "TPU",
    "gpuClass": "standard"
  },
  "nbformat": 4,
  "nbformat_minor": 0
}